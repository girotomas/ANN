{
  "nbformat": 4,
  "nbformat_minor": 0,
  "metadata": {
    "colab": {
      "name": "ANN22_03.ipynb",
      "version": "0.3.2",
      "provenance": [],
      "collapsed_sections": [],
      "include_colab_link": true
    },
    "kernelspec": {
      "display_name": "Python 3",
      "language": "python",
      "name": "python3"
    }
  },
  "cells": [
    {
      "cell_type": "markdown",
      "metadata": {
        "id": "view-in-github",
        "colab_type": "text"
      },
      "source": [
        "<a href=\"https://colab.research.google.com/github/girotomas/ANN/blob/master/ANN22_03.ipynb\" target=\"_parent\"><img src=\"https://colab.research.google.com/assets/colab-badge.svg\" alt=\"Open In Colab\"/></a>"
      ]
    },
    {
      "metadata": {
        "id": "7OqekavpzCVe",
        "colab_type": "text"
      },
      "cell_type": "markdown",
      "source": [
        "// TODO:\n",
        "    -ex2.6 !!!!!!!!! (put many more epochs)\n",
        "    - ex2.6 with fashion dataset !!!!!!!!! (put many more epochs)\n",
        "    - ex 3.2 change epoch to more than 100 and compute\n",
        "    - ex 3.2.5.2 answer question\n",
        "    - ex 4 add more epochs !\n",
        "    - ex 4.2 \n",
        "    - ex 4.2 with fashion\n",
        "    - ex 5.2\n",
        "    - ex 5.3\n",
        "    - ex 6.3 comparison of performance !\n",
        "    - ex 7.1 comment and compute\n",
        "    \n",
        "// QUESTIONS:\n",
        "    - does the softmax layer count as an output layer? How many layers has the model without hiddel layers\n",
        "    - where to put bias_regularizers??  !!\n",
        "    \n",
        "// OPTIONAL:\n",
        "    - ex 6.1 play with other models\n",
        "    "
      ]
    },
    {
      "metadata": {
        "id": "nXxhLiYltss5",
        "colab_type": "text"
      },
      "cell_type": "markdown",
      "source": [
        "# Miniproject 1: Image Classification\n",
        "\n",
        "## Introduction\n",
        "\n",
        "### Important dates:\n",
        "\n",
        "- Project release: Friday, 15th March 2019\n",
        "- **Submission deadline**: Monday, 29th April 2019, 11:59 pm\n",
        "\n",
        "### Description\n",
        "\n",
        "One of the deepest traditions in learning about deep learning is to first [tackle the exciting problem of MNIST classification](http://yann.lecun.com/exdb/mnist/). [The MNIST database](https://en.wikipedia.org/wiki/MNIST_database) (Modified National Institute of Standards and Technology database) is a large database of handwritten digits that is commonly used as a first test for new classification algorithms. \n",
        "We follow this tradition to investigate the performance of artificial neural networks of different complexity on MNIST. However, since MNIST is too easy for accessing the full power of modern machine learning algorithms (see e.g. [this post](https://twitter.com/goodfellow_ian/status/852591106655043584)) we will extend our analysis to the recently introduced, harder [Fashion-MNIST dataset](https://github.com/zalandoresearch/fashion-mnist).\n",
        "\n",
        "\n",
        "### Prerequisites\n",
        "\n",
        "- You should have a running installation of [tensorflow](https://www.tensorflow.org/install/) and [keras](https://keras.io/). Feel free to gain inspiration from the [Keras example directory](https://github.com/keras-team/keras/tree/master/examples) for your implementations.\n",
        "- You should know the concepts \"multilayer perceptron\", \"stochastic gradient descent with minibatches\", \"convolutional neural network\", \"training and validation data\", \"overfitting\" and \"early stopping\".\n",
        "\n",
        "### What you will learn\n",
        "\n",
        "- You will learn how to define feedforward neural networks in keras and fit them to data.\n",
        "- You will be guided through a prototyping procedure for the application of deep learning to a specific domain.\n",
        "- You will get in contact with concepts discussed later in the lecture, like \"regularization\", \"batch normalization\" and \"convolutional networks\".\n",
        "- You will gain some experience on the influence of network architecture, optimizer and regularization choices on the goodness of fit.\n",
        "- You will learn to be more patient :) Some fits may take your computer quite a bit of time; run them over night (or on an external server).\n",
        "\n",
        "### Evaluation criteria\n",
        "\n",
        "The evaluation is (mostly) based on the figures you submit and your answer sentences. Provide clear and concise answers respecting the indicated maximum length (answers to the questions should be below the line that says \"Answer to question ...\").\n",
        "\n",
        "**The submitted notebook must be run by you!** We will only do random tests of your code and not re-run the full notebook. There will be fraud detection sessions at the end of the semester.\n",
        "\n",
        "### Your names\n",
        "\n",
        "**Before you start**: please enter your full name(s) in the field below."
      ]
    },
    {
      "metadata": {
        "ExecuteTime": {
          "end_time": "2018-03-09T09:08:24.514461Z",
          "start_time": "2018-03-09T09:08:24.506410Z"
        },
        "id": "JPStoLUKtss6",
        "colab_type": "code",
        "colab": {}
      },
      "cell_type": "code",
      "source": [
        "student1 = \"Tomas Giro\"\n",
        "student2 = \"Johan Morin\""
      ],
      "execution_count": 0,
      "outputs": []
    },
    {
      "metadata": {
        "ExecuteTime": {
          "end_time": "2018-02-22T21:52:59.697375Z",
          "start_time": "2018-02-22T21:52:59.689443Z"
        },
        "id": "H9FjP0T1tss9",
        "colab_type": "text"
      },
      "cell_type": "markdown",
      "source": [
        "## Some helper functions\n",
        "\n",
        "For your convenience we provide here some functions to preprocess the data and plot the results later. Simply run the following cells with `Shift-Enter`.\n",
        "\n",
        "### Dependencies and constants"
      ]
    },
    {
      "metadata": {
        "ExecuteTime": {
          "end_time": "2018-02-23T14:27:09.352019Z",
          "start_time": "2018-02-23T14:27:08.476310Z"
        },
        "id": "A9fI4O1-tss-",
        "colab_type": "code",
        "outputId": "3e9a5dd1-0f39-439c-c702-d34375872bc8",
        "colab": {
          "base_uri": "https://localhost:8080/",
          "height": 34
        }
      },
      "cell_type": "code",
      "source": [
        "%matplotlib inline\n",
        "\n",
        "import numpy as np\n",
        "import time\n",
        "import matplotlib.pyplot as plt\n",
        "import scipy.io\n",
        "import json\n",
        "from google.colab import files\n",
        "\n",
        "\n",
        "import keras\n",
        "from keras.models import Sequential\n",
        "from keras.layers import Dense, Conv2D, MaxPooling2D, Dropout, Flatten, Activation, BatchNormalization\n",
        "from keras.optimizers import SGD, Adam\n",
        "from keras import regularizers"
      ],
      "execution_count": 2,
      "outputs": [
        {
          "output_type": "stream",
          "text": [
            "Using TensorFlow backend.\n"
          ],
          "name": "stderr"
        }
      ]
    },
    {
      "metadata": {
        "id": "weCY44XKtstB",
        "colab_type": "text"
      },
      "cell_type": "markdown",
      "source": [
        "### Plotting"
      ]
    },
    {
      "metadata": {
        "ExecuteTime": {
          "end_time": "2018-02-23T15:11:52.252208Z",
          "start_time": "2018-02-23T15:11:52.121360Z"
        },
        "id": "TrEbSBIctstC",
        "colab_type": "code",
        "colab": {}
      },
      "cell_type": "code",
      "source": [
        "def plot_some_samples(x, y = [], yhat = [], select_from = [], \n",
        "                      ncols = 6, nrows = 4, xdim = 28, ydim = 28,\n",
        "                      label_mapping = range(10)):\n",
        "    \"\"\"plot some input vectors as grayscale images (optionally together with their assigned or predicted labels).\n",
        "    \n",
        "    x is an NxD - dimensional array, where D is the length of an input vector and N is the number of samples.\n",
        "    Out of the N samples, ncols x nrows indices are randomly selected from the list select_from\n",
        "    (if it is empty, select_from becomes range(N)).\n",
        "    \n",
        "    Keyword arguments:\n",
        "    y             -- corresponding labels to plot in green below each image.\n",
        "    yhat          -- corresponding predicted labels to plot in red below each image.\n",
        "    select_from   -- list of indices from which to select the images.\n",
        "    ncols, nrows  -- number of columns and rows to plot.\n",
        "    xdim, ydim    -- number of pixels of the images in x- and y-direction.\n",
        "    label_mapping -- map labels to digits.\n",
        "    \n",
        "    \"\"\"\n",
        "    fig, ax = plt.subplots(nrows, ncols)\n",
        "    if len(select_from) == 0:\n",
        "        select_from = range(x.shape[0])\n",
        "    indices = np.random.choice(select_from, size = min(ncols * nrows, len(select_from)), replace = False)\n",
        "    for i, ind in enumerate(indices):\n",
        "        thisax = ax[i//ncols,i%ncols]\n",
        "        thisax.matshow(x[ind].reshape(xdim, ydim), cmap='gray')\n",
        "        thisax.set_axis_off()\n",
        "        if len(y) != 0:\n",
        "            j = y[ind] if type(y[ind]) != np.ndarray else y[ind].argmax()\n",
        "            thisax.text(0, 0, (label_mapping[j]), color='green', \n",
        "                                                       verticalalignment='top',\n",
        "                                                       transform=thisax.transAxes)\n",
        "        if len(yhat) != 0:\n",
        "            k = yhat[ind] if type(yhat[ind]) != np.ndarray else yhat[ind].argmax()\n",
        "            thisax.text(1, 0, (label_mapping[k]), color='red',\n",
        "                                             verticalalignment='top',\n",
        "                                             horizontalalignment='right',\n",
        "                                             transform=thisax.transAxes)\n",
        "    return fig\n",
        "\n",
        "def prepare_standardplot(title, xlabel):\n",
        "    fig, (ax1, ax2) = plt.subplots(1, 2)\n",
        "    fig.suptitle(title)\n",
        "    ax1.set_ylabel('categorical cross entropy')\n",
        "    ax1.set_xlabel(xlabel)\n",
        "    ax1.set_yscale('log')\n",
        "    ax2.set_ylabel('accuracy [% correct]')\n",
        "    ax2.set_xlabel(xlabel)\n",
        "    return fig, ax1, ax2\n",
        "\n",
        "def finalize_standardplot(fig, ax1, ax2):\n",
        "    ax1handles, ax1labels = ax1.get_legend_handles_labels()\n",
        "    if len(ax1labels) > 0:\n",
        "        ax1.legend(ax1handles, ax1labels)\n",
        "    ax2handles, ax2labels = ax2.get_legend_handles_labels()\n",
        "    if len(ax2labels) > 0:\n",
        "        ax2.legend(ax2handles, ax2labels)\n",
        "    fig.tight_layout()\n",
        "    plt.subplots_adjust(top=0.9)\n",
        "\n",
        "def plot_history(history, title):\n",
        "    fig, ax1, ax2 = prepare_standardplot(title, 'epoch')\n",
        "    ax1.plot(history['loss'], label = \"training\")\n",
        "    ax1.plot(history['val_loss'], label = \"validation\")\n",
        "    ax2.plot(history['acc'], label = \"training\")\n",
        "    ax2.plot(history['val_acc'], label = \"validation\")\n",
        "    finalize_standardplot(fig, ax1, ax2)\n",
        "    return fig\n"
      ],
      "execution_count": 0,
      "outputs": []
    },
    {
      "metadata": {
        "ExecuteTime": {
          "end_time": "2018-02-23T14:27:44.442862Z",
          "start_time": "2018-02-23T14:27:09.505547Z"
        },
        "id": "ghqK4b7FtstH",
        "colab_type": "code",
        "outputId": "ab290642-bb32-4577-afa5-45d88a0e3c5c",
        "colab": {
          "base_uri": "https://localhost:8080/",
          "height": 187
        }
      },
      "cell_type": "code",
      "source": [
        "from keras.datasets import fashion_mnist\n",
        "from keras.datasets import mnist\n",
        "\n",
        "(x_train, y_train), (x_test, y_test) = mnist.load_data()\n",
        "(x_fashion_train, y_fashion_train), (x_fashion_test, y_fashion_test) = fashion_mnist.load_data()"
      ],
      "execution_count": 4,
      "outputs": [
        {
          "output_type": "stream",
          "text": [
            "Downloading data from https://s3.amazonaws.com/img-datasets/mnist.npz\n",
            "11493376/11490434 [==============================] - 1s 0us/step\n",
            "Downloading data from http://fashion-mnist.s3-website.eu-central-1.amazonaws.com/train-labels-idx1-ubyte.gz\n",
            "32768/29515 [=================================] - 0s 4us/step\n",
            "Downloading data from http://fashion-mnist.s3-website.eu-central-1.amazonaws.com/train-images-idx3-ubyte.gz\n",
            "26427392/26421880 [==============================] - 2s 0us/step\n",
            "Downloading data from http://fashion-mnist.s3-website.eu-central-1.amazonaws.com/t10k-labels-idx1-ubyte.gz\n",
            "8192/5148 [===============================================] - 0s 0us/step\n",
            "Downloading data from http://fashion-mnist.s3-website.eu-central-1.amazonaws.com/t10k-images-idx3-ubyte.gz\n",
            "4423680/4422102 [==============================] - 1s 0us/step\n"
          ],
          "name": "stdout"
        }
      ]
    },
    {
      "metadata": {
        "id": "AWcbSKBF07GH",
        "colab_type": "code",
        "colab": {}
      },
      "cell_type": "code",
      "source": [
        "from keras.models import load_model\n",
        "\n",
        "\n",
        "def save(history,model,code):\n",
        "  name='history'+str(code)+'.json'\n",
        "  with open(name, 'w') as f:\n",
        "    try:\n",
        "      json.dump(history, f)\n",
        "    except:\n",
        "      pass\n",
        "    try:\n",
        "      json.dump(history.history,f)\n",
        "    except:\n",
        "      pass\n",
        "  files.download(name)\n",
        "  \n",
        "  \n",
        "  model.save('model'+str(code)+'.h5') \n",
        "  files.download('model'+str(code)+'.h5')"
      ],
      "execution_count": 0,
      "outputs": []
    },
    {
      "metadata": {
        "id": "r3NlKH3ststM",
        "colab_type": "code",
        "colab": {}
      },
      "cell_type": "code",
      "source": [
        "x_tr={}\n",
        "x_tr['numbers']=x_train\n",
        "x_tr['fashion']=x_fashion_train\n",
        "y_tr={}\n",
        "y_tr['numbers']=y_train\n",
        "y_tr['fashion']=y_fashion_train\n",
        "x_te={}\n",
        "x_te['numbers']=x_test\n",
        "x_te['fashion']=x_fashion_test\n",
        "y_te={}\n",
        "y_te['numbers']=y_test\n",
        "y_te['fashion']=y_fashion_test"
      ],
      "execution_count": 0,
      "outputs": []
    },
    {
      "metadata": {
        "id": "vP_PplpStstE",
        "colab_type": "text"
      },
      "cell_type": "markdown",
      "source": [
        "## Exercise 1: Data import and visualization (4 points)\n",
        "\n",
        "### Description\n",
        "\n",
        "### Loading the data\n",
        "\n",
        "The datasets we use in this project (MNIST, Fashion-MNIST) consists of grayscale images with 28x28 pixels. Keras comes with a convenient in-built [data importer](https://keras.io/datasets/) for common datasets.\n",
        "\n",
        "1. As a warm-up exercise, use this importer to (down-)load the MNIST and Fashion-MNIST dataset. Assign useful variables to test & train images and labels for both datasets respectively. (2 pts)\n",
        "2. Use the corresponding plotting function defined above to plot some samples of the two datasets. What do the green digits at the bottom left of each image indicate? (1 sentence max.) (2 pts)\n",
        "\n",
        "The low resolution (and grayscale) of the images certainly misses some information that could be helpful for classifying the images. However, since the data has lower dimensionality due to the low resolution, the fitting procedures converge faster. This is an advantage in situations like here (or generally when prototyping), were we want to try many different things without having to wait too long for computations to finish.\n",
        "\n"
      ]
    },
    {
      "metadata": {
        "id": "z38f6B_btstF",
        "colab_type": "text"
      },
      "cell_type": "markdown",
      "source": [
        "### Solution"
      ]
    },
    {
      "metadata": {
        "id": "-GHkZA3BtstO",
        "colab_type": "text"
      },
      "cell_type": "markdown",
      "source": [
        "Answer to question 1: Done above.\n",
        "\n",
        "\n",
        "Answer to question 2:"
      ]
    },
    {
      "metadata": {
        "id": "lGrDqazKtstP",
        "colab_type": "text"
      },
      "cell_type": "markdown",
      "source": [
        "The green digits under the images indicate the corresponding labels of the images above. (I modified the function for it to work with strings and not only integers.)\n",
        "              \n",
        "             "
      ]
    },
    {
      "metadata": {
        "id": "7VqcRHWdtstQ",
        "colab_type": "code",
        "outputId": "8c86dd00-74ed-472b-d2c1-7ed1cac73ab0",
        "colab": {
          "base_uri": "https://localhost:8080/",
          "height": 533
        }
      },
      "cell_type": "code",
      "source": [
        "plot_some_samples(x=x_train, y=y_train , yhat = [], select_from = [], \n",
        "                      ncols = 6, nrows = 4, xdim = 28, ydim = 28,\n",
        "                      label_mapping = range(10))"
      ],
      "execution_count": 7,
      "outputs": [
        {
          "output_type": "execute_result",
          "data": {
            "image/png": "[encoded data removed]",
            "text/plain": [
              "<Figure size 432x288 with 24 Axes>"
            ]
          },
          "metadata": {
            "tags": []
          },
          "execution_count": 7
        },
        {
          "output_type": "display_data",
          "data": {
            "image/png": "[encoded data removed]",
            "text/plain": [
              "<Figure size 432x288 with 24 Axes>"
            ]
          },
          "metadata": {
            "tags": []
          }
        }
      ]
    },
    {
      "metadata": {
        "id": "RqDoKeSBtstT",
        "colab_type": "text"
      },
      "cell_type": "markdown",
      "source": [
        "**Data pre-processing**: To prepare for fitting we transform the labels to one hot coding, i.e. for 5 classes, label 2 becomes the vector [0, 0, 1, 0, 0] (python uses 0-indexing). Furthermore we reshape (flatten) the input images to input vectors and rescale the data into the range [0,1]."
      ]
    },
    {
      "metadata": {
        "id": "Ia-8-umGtstU",
        "colab_type": "code",
        "colab": {}
      },
      "cell_type": "code",
      "source": [
        "y_train = keras.utils.to_categorical(y_train)\n",
        "y_test = keras.utils.to_categorical(y_test)\n",
        "\n",
        "y_fashion_train = keras.utils.to_categorical(y_fashion_train)\n",
        "y_fashion_test = keras.utils.to_categorical(y_fashion_test)"
      ],
      "execution_count": 0,
      "outputs": []
    },
    {
      "metadata": {
        "id": "_waFDZpktstY",
        "colab_type": "code",
        "colab": {}
      },
      "cell_type": "code",
      "source": [
        "x_train = x_train.reshape(x_train.shape[0], x_train.shape[1]*x_train.shape[2])/np.max(x_train)\n",
        "x_test = x_test.reshape(x_test.shape[0], x_test.shape[1]*x_test.shape[2])/np.max(x_test)\n",
        "\n",
        "x_fashion_train = x_fashion_train.reshape(x_fashion_train.shape[0], x_fashion_train.shape[1]*x_fashion_train.shape[2])/np.max(x_fashion_train)\n",
        "x_fashion_test = x_fashion_test.reshape(x_fashion_test.shape[0], x_fashion_test.shape[1]*x_fashion_test.shape[2])/np.max(x_fashion_test)"
      ],
      "execution_count": 0,
      "outputs": []
    },
    {
      "metadata": {
        "id": "BJ7UQ4hxtste",
        "colab_type": "text"
      },
      "cell_type": "markdown",
      "source": [
        "## Exercise 2: No hidden layer (10 points)\n",
        "\n",
        "### Description\n",
        "\n",
        "Define and fit a model without a hidden layer (since we will use multi-layer models later in this project, you can define a general constructor function for models with an arbitrary number of hidden layers already at this point). (1 pt for each step)\n",
        "\n",
        "1. Use the softmax activation for the output layer.\n",
        "2. Use the categorical_crossentropy loss.\n",
        "3. Add the accuracy metric to the metrics.\n",
        "4. Choose stochastic gradient descent for the optimizer.\n",
        "5. Choose a minibatch size of 128.\n",
        "6. Fit for as many epochs as needed to see no further decrease in the validation loss.\n",
        "7. Plot the output of the fitting procedure (a history object) using the function plot_history defined above.\n",
        "8. Determine the indices of all test images that are misclassified by the fitted model and plot some of them using the function \n",
        "   `plot_some_samples(x_test, y_test, yhat_test, error_indices)`. Explain the green and red digits at the bottom of each image.\n",
        "9. Repeat the above steps for fitting the network to the Fashion-MNIST dataset.\n",
        "\n",
        "\n",
        "Hints:\n",
        "* Read the keras docs, in particular [Getting started with the Keras Sequential model](https://keras.io/getting-started/sequential-model-guide/).\n",
        "* Have a look at the keras [examples](https://github.com/keras-team/keras/tree/master/examples), e.g. [mnist_mlp](https://github.com/keras-team/keras/blob/master/examples/mnist_mlp.py)."
      ]
    },
    {
      "metadata": {
        "id": "ltaO4KBntste",
        "colab_type": "text"
      },
      "cell_type": "markdown",
      "source": [
        "### Solution"
      ]
    },
    {
      "metadata": {
        "scrolled": true,
        "id": "65xtk_VAtstf",
        "colab_type": "code",
        "outputId": "74bd8667-8cfc-4749-8ffb-805ab9edc527",
        "colab": {
          "base_uri": "https://localhost:8080/",
          "height": 10356
        }
      },
      "cell_type": "code",
      "source": [
        "\n",
        "from keras.models import Sequential\n",
        "from keras.layers import Dense, Activation\n",
        "\n",
        "\n",
        "epochs=300\n",
        "\n",
        "model = Sequential([\n",
        "    Dense(10, input_shape=(784,)),\n",
        "    Activation('softmax'),\n",
        "])\n",
        "\n",
        "sgd = keras.optimizers.SGD(lr=0.01, clipnorm=1.)\n",
        "model.compile(optimizer=sgd,\n",
        "              loss='categorical_crossentropy',\n",
        "              metrics=['acc'])\n",
        "\n",
        "# Train the model, iterating on the data in batches of 128 samples\n",
        "history=model.fit(x_train, y_train, epochs=epochs, batch_size=128, validation_data=(x_test, y_test))\n",
        "\n",
        "\n",
        "\n"
      ],
      "execution_count": 10,
      "outputs": [
        {
          "output_type": "stream",
          "text": [
            "WARNING:tensorflow:From /usr/local/lib/python3.6/dist-packages/tensorflow/python/framework/op_def_library.py:263: colocate_with (from tensorflow.python.framework.ops) is deprecated and will be removed in a future version.\n",
            "Instructions for updating:\n",
            "Colocations handled automatically by placer.\n",
            "WARNING:tensorflow:From /usr/local/lib/python3.6/dist-packages/tensorflow/python/ops/math_ops.py:3066: to_int32 (from tensorflow.python.ops.math_ops) is deprecated and will be removed in a future version.\n",
            "Instructions for updating:\n",
            "Use tf.cast instead.\n",
            "Train on 60000 samples, validate on 10000 samples\n",
            "Epoch 1/300\n",
            "60000/60000 [==============================] - 2s 28us/step - loss: 1.3100 - acc: 0.6866 - val_loss: 0.8138 - val_acc: 0.8343\n",
            "Epoch 2/300\n",
            "60000/60000 [==============================] - 1s 18us/step - loss: 0.7177 - acc: 0.8423 - val_loss: 0.6066 - val_acc: 0.8613\n",
            "Epoch 3/300\n",
            "60000/60000 [==============================] - 1s 19us/step - loss: 0.5867 - acc: 0.8605 - val_loss: 0.5245 - val_acc: 0.8739\n",
            "Epoch 4/300\n",
            "60000/60000 [==============================] - 1s 19us/step - loss: 0.5247 - acc: 0.8699 - val_loss: 0.4794 - val_acc: 0.8803\n",
            "Epoch 5/300\n",
            "60000/60000 [==============================] - 1s 19us/step - loss: 0.4871 - acc: 0.8753 - val_loss: 0.4498 - val_acc: 0.8853\n",
            "Epoch 6/300\n",
            "60000/60000 [==============================] - 1s 19us/step - loss: 0.4613 - acc: 0.8800 - val_loss: 0.4290 - val_acc: 0.8897\n",
            "Epoch 7/300\n",
            "60000/60000 [==============================] - 1s 19us/step - loss: 0.4422 - acc: 0.8840 - val_loss: 0.4128 - val_acc: 0.8918\n",
            "Epoch 8/300\n",
            "60000/60000 [==============================] - 1s 19us/step - loss: 0.4274 - acc: 0.8867 - val_loss: 0.3999 - val_acc: 0.8935\n",
            "Epoch 9/300\n",
            "60000/60000 [==============================] - 1s 19us/step - loss: 0.4154 - acc: 0.8893 - val_loss: 0.3897 - val_acc: 0.8959\n",
            "Epoch 10/300\n",
            "60000/60000 [==============================] - 1s 19us/step - loss: 0.4054 - acc: 0.8918 - val_loss: 0.3814 - val_acc: 0.8971\n",
            "Epoch 11/300\n",
            "60000/60000 [==============================] - 1s 19us/step - loss: 0.3970 - acc: 0.8931 - val_loss: 0.3738 - val_acc: 0.8987\n",
            "Epoch 12/300\n",
            "60000/60000 [==============================] - 1s 19us/step - loss: 0.3897 - acc: 0.8944 - val_loss: 0.3675 - val_acc: 0.9000\n",
            "Epoch 13/300\n",
            "60000/60000 [==============================] - 1s 19us/step - loss: 0.3834 - acc: 0.8959 - val_loss: 0.3617 - val_acc: 0.9019\n",
            "Epoch 14/300\n",
            "60000/60000 [==============================] - 1s 18us/step - loss: 0.3777 - acc: 0.8971 - val_loss: 0.3573 - val_acc: 0.9032\n",
            "Epoch 15/300\n",
            "60000/60000 [==============================] - 1s 18us/step - loss: 0.3727 - acc: 0.8983 - val_loss: 0.3527 - val_acc: 0.9051\n",
            "Epoch 16/300\n",
            "60000/60000 [==============================] - 1s 19us/step - loss: 0.3682 - acc: 0.8994 - val_loss: 0.3488 - val_acc: 0.9059\n",
            "Epoch 17/300\n",
            "60000/60000 [==============================] - 1s 19us/step - loss: 0.3641 - acc: 0.9008 - val_loss: 0.3450 - val_acc: 0.9063\n",
            "Epoch 18/300\n",
            "60000/60000 [==============================] - 1s 19us/step - loss: 0.3604 - acc: 0.9009 - val_loss: 0.3418 - val_acc: 0.9075\n",
            "Epoch 19/300\n",
            "60000/60000 [==============================] - 1s 19us/step - loss: 0.3570 - acc: 0.9016 - val_loss: 0.3390 - val_acc: 0.9082\n",
            "Epoch 20/300\n",
            "60000/60000 [==============================] - 1s 19us/step - loss: 0.3538 - acc: 0.9024 - val_loss: 0.3363 - val_acc: 0.9089\n",
            "Epoch 21/300\n",
            "60000/60000 [==============================] - 1s 19us/step - loss: 0.3510 - acc: 0.9033 - val_loss: 0.3337 - val_acc: 0.9093\n",
            "Epoch 22/300\n",
            "60000/60000 [==============================] - 1s 19us/step - loss: 0.3482 - acc: 0.9038 - val_loss: 0.3315 - val_acc: 0.9099\n",
            "Epoch 23/300\n",
            "60000/60000 [==============================] - 1s 19us/step - loss: 0.3457 - acc: 0.9048 - val_loss: 0.3292 - val_acc: 0.9102\n",
            "Epoch 24/300\n",
            "60000/60000 [==============================] - 1s 19us/step - loss: 0.3433 - acc: 0.9054 - val_loss: 0.3271 - val_acc: 0.9107\n",
            "Epoch 25/300\n",
            "60000/60000 [==============================] - 1s 18us/step - loss: 0.3411 - acc: 0.9057 - val_loss: 0.3251 - val_acc: 0.9116\n",
            "Epoch 26/300\n",
            "60000/60000 [==============================] - 1s 19us/step - loss: 0.3390 - acc: 0.9066 - val_loss: 0.3234 - val_acc: 0.9113\n",
            "Epoch 27/300\n",
            "60000/60000 [==============================] - 1s 19us/step - loss: 0.3370 - acc: 0.9067 - val_loss: 0.3217 - val_acc: 0.9122\n",
            "Epoch 28/300\n",
            "60000/60000 [==============================] - 1s 18us/step - loss: 0.3351 - acc: 0.9074 - val_loss: 0.3201 - val_acc: 0.9125\n",
            "Epoch 29/300\n",
            "60000/60000 [==============================] - 1s 18us/step - loss: 0.3333 - acc: 0.9077 - val_loss: 0.3186 - val_acc: 0.9125\n",
            "Epoch 30/300\n",
            "60000/60000 [==============================] - 1s 18us/step - loss: 0.3316 - acc: 0.9081 - val_loss: 0.3172 - val_acc: 0.9131\n",
            "Epoch 31/300\n",
            "60000/60000 [==============================] - 1s 19us/step - loss: 0.3301 - acc: 0.9086 - val_loss: 0.3159 - val_acc: 0.9139\n",
            "Epoch 32/300\n",
            "60000/60000 [==============================] - 1s 19us/step - loss: 0.3285 - acc: 0.9089 - val_loss: 0.3145 - val_acc: 0.9132\n",
            "Epoch 33/300\n",
            "60000/60000 [==============================] - 1s 19us/step - loss: 0.3271 - acc: 0.9093 - val_loss: 0.3137 - val_acc: 0.9143\n",
            "Epoch 34/300\n",
            "60000/60000 [==============================] - 1s 19us/step - loss: 0.3257 - acc: 0.9098 - val_loss: 0.3122 - val_acc: 0.9144\n",
            "Epoch 35/300\n",
            "60000/60000 [==============================] - 1s 19us/step - loss: 0.3244 - acc: 0.9100 - val_loss: 0.3113 - val_acc: 0.9139\n",
            "Epoch 36/300\n",
            "60000/60000 [==============================] - 1s 19us/step - loss: 0.3231 - acc: 0.9106 - val_loss: 0.3100 - val_acc: 0.9152\n",
            "Epoch 37/300\n",
            "60000/60000 [==============================] - 1s 19us/step - loss: 0.3219 - acc: 0.9108 - val_loss: 0.3093 - val_acc: 0.9144\n",
            "Epoch 38/300\n",
            "60000/60000 [==============================] - 1s 19us/step - loss: 0.3207 - acc: 0.9110 - val_loss: 0.3082 - val_acc: 0.9149\n",
            "Epoch 39/300\n",
            "60000/60000 [==============================] - 1s 19us/step - loss: 0.3196 - acc: 0.9113 - val_loss: 0.3072 - val_acc: 0.9149\n",
            "Epoch 40/300\n",
            "60000/60000 [==============================] - 1s 19us/step - loss: 0.3185 - acc: 0.9115 - val_loss: 0.3062 - val_acc: 0.9153\n",
            "Epoch 41/300\n",
            "60000/60000 [==============================] - 1s 19us/step - loss: 0.3174 - acc: 0.9118 - val_loss: 0.3056 - val_acc: 0.9155\n",
            "Epoch 42/300\n",
            "60000/60000 [==============================] - 1s 19us/step - loss: 0.3164 - acc: 0.9122 - val_loss: 0.3046 - val_acc: 0.9159\n",
            "Epoch 43/300\n",
            "60000/60000 [==============================] - 1s 18us/step - loss: 0.3154 - acc: 0.9127 - val_loss: 0.3036 - val_acc: 0.9164\n",
            "Epoch 44/300\n",
            "60000/60000 [==============================] - 1s 18us/step - loss: 0.3145 - acc: 0.9127 - val_loss: 0.3032 - val_acc: 0.9161\n",
            "Epoch 45/300\n",
            "60000/60000 [==============================] - 1s 19us/step - loss: 0.3136 - acc: 0.9129 - val_loss: 0.3025 - val_acc: 0.9162\n",
            "Epoch 46/300\n",
            "60000/60000 [==============================] - 1s 18us/step - loss: 0.3127 - acc: 0.9133 - val_loss: 0.3018 - val_acc: 0.9163\n",
            "Epoch 47/300\n",
            "60000/60000 [==============================] - 1s 19us/step - loss: 0.3118 - acc: 0.9136 - val_loss: 0.3012 - val_acc: 0.9169\n",
            "Epoch 48/300\n",
            "60000/60000 [==============================] - 1s 18us/step - loss: 0.3110 - acc: 0.9135 - val_loss: 0.3004 - val_acc: 0.9167\n",
            "Epoch 49/300\n",
            "60000/60000 [==============================] - 1s 18us/step - loss: 0.3102 - acc: 0.9139 - val_loss: 0.2997 - val_acc: 0.9171\n",
            "Epoch 50/300\n",
            "60000/60000 [==============================] - 1s 18us/step - loss: 0.3094 - acc: 0.9140 - val_loss: 0.2993 - val_acc: 0.9175\n",
            "Epoch 51/300\n",
            "60000/60000 [==============================] - 1s 18us/step - loss: 0.3087 - acc: 0.9142 - val_loss: 0.2986 - val_acc: 0.9176\n",
            "Epoch 52/300\n",
            "60000/60000 [==============================] - 1s 18us/step - loss: 0.3080 - acc: 0.9147 - val_loss: 0.2980 - val_acc: 0.9175\n",
            "Epoch 53/300\n",
            "60000/60000 [==============================] - 1s 19us/step - loss: 0.3072 - acc: 0.9149 - val_loss: 0.2975 - val_acc: 0.9173\n",
            "Epoch 54/300\n",
            "60000/60000 [==============================] - 1s 19us/step - loss: 0.3065 - acc: 0.9150 - val_loss: 0.2968 - val_acc: 0.9180\n",
            "Epoch 55/300\n",
            "60000/60000 [==============================] - 1s 19us/step - loss: 0.3059 - acc: 0.9151 - val_loss: 0.2965 - val_acc: 0.9179\n",
            "Epoch 56/300\n",
            "60000/60000 [==============================] - 1s 19us/step - loss: 0.3052 - acc: 0.9152 - val_loss: 0.2959 - val_acc: 0.9176\n",
            "Epoch 57/300\n",
            "60000/60000 [==============================] - 1s 18us/step - loss: 0.3046 - acc: 0.9155 - val_loss: 0.2953 - val_acc: 0.9182\n",
            "Epoch 58/300\n",
            "60000/60000 [==============================] - 1s 19us/step - loss: 0.3039 - acc: 0.9158 - val_loss: 0.2951 - val_acc: 0.9178\n",
            "Epoch 59/300\n",
            "60000/60000 [==============================] - 1s 19us/step - loss: 0.3033 - acc: 0.9158 - val_loss: 0.2943 - val_acc: 0.9182\n",
            "Epoch 60/300\n",
            "60000/60000 [==============================] - 1s 19us/step - loss: 0.3027 - acc: 0.9160 - val_loss: 0.2940 - val_acc: 0.9180\n",
            "Epoch 61/300\n",
            "60000/60000 [==============================] - 1s 19us/step - loss: 0.3021 - acc: 0.9163 - val_loss: 0.2937 - val_acc: 0.9187\n",
            "Epoch 62/300\n",
            "60000/60000 [==============================] - 1s 18us/step - loss: 0.3016 - acc: 0.9165 - val_loss: 0.2931 - val_acc: 0.9183\n",
            "Epoch 63/300\n",
            "60000/60000 [==============================] - 1s 19us/step - loss: 0.3010 - acc: 0.9167 - val_loss: 0.2926 - val_acc: 0.9181\n",
            "Epoch 64/300\n",
            "60000/60000 [==============================] - 1s 19us/step - loss: 0.3005 - acc: 0.9164 - val_loss: 0.2922 - val_acc: 0.9180\n",
            "Epoch 65/300\n",
            "60000/60000 [==============================] - 1s 19us/step - loss: 0.3000 - acc: 0.9166 - val_loss: 0.2919 - val_acc: 0.9189\n",
            "Epoch 66/300\n",
            "60000/60000 [==============================] - 1s 18us/step - loss: 0.2995 - acc: 0.9170 - val_loss: 0.2914 - val_acc: 0.9193\n",
            "Epoch 67/300\n",
            "60000/60000 [==============================] - 1s 18us/step - loss: 0.2989 - acc: 0.9170 - val_loss: 0.2912 - val_acc: 0.9196\n",
            "Epoch 68/300\n",
            "60000/60000 [==============================] - 1s 18us/step - loss: 0.2985 - acc: 0.9171 - val_loss: 0.2907 - val_acc: 0.9191\n",
            "Epoch 69/300\n",
            "60000/60000 [==============================] - 1s 19us/step - loss: 0.2980 - acc: 0.9174 - val_loss: 0.2904 - val_acc: 0.9195\n",
            "Epoch 70/300\n",
            "60000/60000 [==============================] - 1s 18us/step - loss: 0.2975 - acc: 0.9173 - val_loss: 0.2900 - val_acc: 0.9192\n",
            "Epoch 71/300\n",
            "60000/60000 [==============================] - 1s 19us/step - loss: 0.2970 - acc: 0.9175 - val_loss: 0.2898 - val_acc: 0.9188\n",
            "Epoch 72/300\n",
            "60000/60000 [==============================] - 1s 19us/step - loss: 0.2966 - acc: 0.9175 - val_loss: 0.2894 - val_acc: 0.9191\n",
            "Epoch 73/300\n",
            "60000/60000 [==============================] - 2s 31us/step - loss: 0.2961 - acc: 0.9177 - val_loss: 0.2890 - val_acc: 0.9195\n",
            "Epoch 74/300\n",
            "60000/60000 [==============================] - 1s 19us/step - loss: 0.2957 - acc: 0.9177 - val_loss: 0.2886 - val_acc: 0.9194\n",
            "Epoch 75/300\n",
            "60000/60000 [==============================] - 1s 19us/step - loss: 0.2953 - acc: 0.9181 - val_loss: 0.2884 - val_acc: 0.9195\n",
            "Epoch 76/300\n",
            "60000/60000 [==============================] - 1s 19us/step - loss: 0.2948 - acc: 0.9182 - val_loss: 0.2880 - val_acc: 0.9199\n",
            "Epoch 77/300\n",
            "60000/60000 [==============================] - 1s 19us/step - loss: 0.2944 - acc: 0.9181 - val_loss: 0.2878 - val_acc: 0.9199\n",
            "Epoch 78/300\n",
            "60000/60000 [==============================] - 1s 19us/step - loss: 0.2940 - acc: 0.9180 - val_loss: 0.2876 - val_acc: 0.9197\n",
            "Epoch 79/300\n",
            "60000/60000 [==============================] - 1s 19us/step - loss: 0.2936 - acc: 0.9185 - val_loss: 0.2873 - val_acc: 0.9198\n",
            "Epoch 80/300\n",
            "60000/60000 [==============================] - 1s 19us/step - loss: 0.2932 - acc: 0.9184 - val_loss: 0.2869 - val_acc: 0.9200\n",
            "Epoch 81/300\n",
            "60000/60000 [==============================] - 1s 19us/step - loss: 0.2929 - acc: 0.9185 - val_loss: 0.2865 - val_acc: 0.9199\n",
            "Epoch 82/300\n",
            "60000/60000 [==============================] - 1s 19us/step - loss: 0.2925 - acc: 0.9188 - val_loss: 0.2866 - val_acc: 0.9198\n",
            "Epoch 83/300\n",
            "60000/60000 [==============================] - 1s 19us/step - loss: 0.2921 - acc: 0.9188 - val_loss: 0.2864 - val_acc: 0.9206\n",
            "Epoch 84/300\n",
            "60000/60000 [==============================] - 1s 19us/step - loss: 0.2918 - acc: 0.9190 - val_loss: 0.2860 - val_acc: 0.9205\n",
            "Epoch 85/300\n",
            "60000/60000 [==============================] - 1s 19us/step - loss: 0.2914 - acc: 0.9189 - val_loss: 0.2855 - val_acc: 0.9206\n",
            "Epoch 86/300\n",
            "60000/60000 [==============================] - 1s 19us/step - loss: 0.2910 - acc: 0.9189 - val_loss: 0.2854 - val_acc: 0.9204\n",
            "Epoch 87/300\n",
            "60000/60000 [==============================] - 1s 19us/step - loss: 0.2907 - acc: 0.9188 - val_loss: 0.2852 - val_acc: 0.9204\n",
            "Epoch 88/300\n",
            "60000/60000 [==============================] - 1s 19us/step - loss: 0.2904 - acc: 0.9192 - val_loss: 0.2849 - val_acc: 0.9201\n",
            "Epoch 89/300\n",
            "60000/60000 [==============================] - 1s 19us/step - loss: 0.2900 - acc: 0.9193 - val_loss: 0.2848 - val_acc: 0.9205\n",
            "Epoch 90/300\n",
            "60000/60000 [==============================] - 1s 19us/step - loss: 0.2897 - acc: 0.9192 - val_loss: 0.2848 - val_acc: 0.9202\n",
            "Epoch 91/300\n",
            "60000/60000 [==============================] - 1s 19us/step - loss: 0.2893 - acc: 0.9195 - val_loss: 0.2845 - val_acc: 0.9203\n",
            "Epoch 92/300\n",
            "60000/60000 [==============================] - 1s 19us/step - loss: 0.2890 - acc: 0.9196 - val_loss: 0.2841 - val_acc: 0.9205\n",
            "Epoch 93/300\n",
            "60000/60000 [==============================] - 1s 19us/step - loss: 0.2887 - acc: 0.9196 - val_loss: 0.2840 - val_acc: 0.9209\n",
            "Epoch 94/300\n",
            "60000/60000 [==============================] - 1s 19us/step - loss: 0.2884 - acc: 0.9196 - val_loss: 0.2838 - val_acc: 0.9203\n",
            "Epoch 95/300\n",
            "60000/60000 [==============================] - 1s 19us/step - loss: 0.2881 - acc: 0.9195 - val_loss: 0.2839 - val_acc: 0.9206\n",
            "Epoch 96/300\n",
            "60000/60000 [==============================] - 1s 19us/step - loss: 0.2878 - acc: 0.9198 - val_loss: 0.2834 - val_acc: 0.9207\n",
            "Epoch 97/300\n",
            "60000/60000 [==============================] - 1s 19us/step - loss: 0.2875 - acc: 0.9197 - val_loss: 0.2835 - val_acc: 0.9207\n",
            "Epoch 98/300\n",
            "60000/60000 [==============================] - 1s 19us/step - loss: 0.2873 - acc: 0.9201 - val_loss: 0.2829 - val_acc: 0.9210\n",
            "Epoch 99/300\n",
            "60000/60000 [==============================] - 1s 19us/step - loss: 0.2870 - acc: 0.9200 - val_loss: 0.2828 - val_acc: 0.9208\n",
            "Epoch 100/300\n",
            "60000/60000 [==============================] - 1s 19us/step - loss: 0.2867 - acc: 0.9200 - val_loss: 0.2825 - val_acc: 0.9217\n",
            "Epoch 101/300\n",
            "60000/60000 [==============================] - 1s 19us/step - loss: 0.2864 - acc: 0.9200 - val_loss: 0.2827 - val_acc: 0.9207\n",
            "Epoch 102/300\n",
            "60000/60000 [==============================] - 1s 19us/step - loss: 0.2861 - acc: 0.9202 - val_loss: 0.2822 - val_acc: 0.9212\n",
            "Epoch 103/300\n",
            "60000/60000 [==============================] - 1s 19us/step - loss: 0.2859 - acc: 0.9204 - val_loss: 0.2820 - val_acc: 0.9209\n",
            "Epoch 104/300\n",
            "60000/60000 [==============================] - 1s 19us/step - loss: 0.2856 - acc: 0.9205 - val_loss: 0.2818 - val_acc: 0.9213\n",
            "Epoch 105/300\n",
            "60000/60000 [==============================] - 1s 19us/step - loss: 0.2853 - acc: 0.9207 - val_loss: 0.2818 - val_acc: 0.9215\n",
            "Epoch 106/300\n",
            "60000/60000 [==============================] - 1s 19us/step - loss: 0.2850 - acc: 0.9205 - val_loss: 0.2816 - val_acc: 0.9215\n",
            "Epoch 107/300\n",
            "60000/60000 [==============================] - 1s 19us/step - loss: 0.2848 - acc: 0.9208 - val_loss: 0.2815 - val_acc: 0.9209\n",
            "Epoch 108/300\n",
            "60000/60000 [==============================] - 1s 20us/step - loss: 0.2845 - acc: 0.9208 - val_loss: 0.2811 - val_acc: 0.9221\n",
            "Epoch 109/300\n",
            "60000/60000 [==============================] - 1s 20us/step - loss: 0.2843 - acc: 0.9208 - val_loss: 0.2810 - val_acc: 0.9214\n",
            "Epoch 110/300\n",
            "60000/60000 [==============================] - 1s 20us/step - loss: 0.2841 - acc: 0.9207 - val_loss: 0.2810 - val_acc: 0.9216\n",
            "Epoch 111/300\n",
            "60000/60000 [==============================] - 1s 20us/step - loss: 0.2838 - acc: 0.9210 - val_loss: 0.2807 - val_acc: 0.9217\n",
            "Epoch 112/300\n",
            "60000/60000 [==============================] - 1s 19us/step - loss: 0.2836 - acc: 0.9210 - val_loss: 0.2807 - val_acc: 0.9215\n",
            "Epoch 113/300\n",
            "60000/60000 [==============================] - 1s 19us/step - loss: 0.2833 - acc: 0.9212 - val_loss: 0.2802 - val_acc: 0.9212\n",
            "Epoch 114/300\n",
            "60000/60000 [==============================] - 1s 19us/step - loss: 0.2831 - acc: 0.9212 - val_loss: 0.2805 - val_acc: 0.9216\n",
            "Epoch 115/300\n",
            "60000/60000 [==============================] - 1s 19us/step - loss: 0.2829 - acc: 0.9211 - val_loss: 0.2800 - val_acc: 0.9215\n",
            "Epoch 116/300\n",
            "60000/60000 [==============================] - 1s 19us/step - loss: 0.2826 - acc: 0.9211 - val_loss: 0.2799 - val_acc: 0.9214\n",
            "Epoch 117/300\n",
            "60000/60000 [==============================] - 1s 19us/step - loss: 0.2824 - acc: 0.9212 - val_loss: 0.2800 - val_acc: 0.9210\n",
            "Epoch 118/300\n",
            "60000/60000 [==============================] - 1s 19us/step - loss: 0.2822 - acc: 0.9215 - val_loss: 0.2797 - val_acc: 0.9213\n",
            "Epoch 119/300\n",
            "60000/60000 [==============================] - 1s 19us/step - loss: 0.2820 - acc: 0.9213 - val_loss: 0.2797 - val_acc: 0.9216\n",
            "Epoch 120/300\n",
            "60000/60000 [==============================] - 1s 19us/step - loss: 0.2818 - acc: 0.9216 - val_loss: 0.2795 - val_acc: 0.9215\n",
            "Epoch 121/300\n",
            "60000/60000 [==============================] - 1s 19us/step - loss: 0.2815 - acc: 0.9216 - val_loss: 0.2792 - val_acc: 0.9220\n",
            "Epoch 122/300\n",
            "60000/60000 [==============================] - 1s 19us/step - loss: 0.2814 - acc: 0.9213 - val_loss: 0.2791 - val_acc: 0.9222\n",
            "Epoch 123/300\n",
            "60000/60000 [==============================] - 1s 19us/step - loss: 0.2811 - acc: 0.9216 - val_loss: 0.2792 - val_acc: 0.9215\n",
            "Epoch 124/300\n",
            "60000/60000 [==============================] - 1s 19us/step - loss: 0.2809 - acc: 0.9217 - val_loss: 0.2790 - val_acc: 0.9219\n",
            "Epoch 125/300\n",
            "60000/60000 [==============================] - 1s 19us/step - loss: 0.2807 - acc: 0.9219 - val_loss: 0.2790 - val_acc: 0.9218\n",
            "Epoch 126/300\n",
            "60000/60000 [==============================] - 1s 19us/step - loss: 0.2805 - acc: 0.9216 - val_loss: 0.2786 - val_acc: 0.9220\n",
            "Epoch 127/300\n",
            "60000/60000 [==============================] - 1s 19us/step - loss: 0.2803 - acc: 0.9218 - val_loss: 0.2786 - val_acc: 0.9220\n",
            "Epoch 128/300\n",
            "60000/60000 [==============================] - 1s 19us/step - loss: 0.2801 - acc: 0.9219 - val_loss: 0.2784 - val_acc: 0.9226\n",
            "Epoch 129/300\n",
            "60000/60000 [==============================] - 1s 19us/step - loss: 0.2799 - acc: 0.9217 - val_loss: 0.2782 - val_acc: 0.9218\n",
            "Epoch 130/300\n",
            "60000/60000 [==============================] - 1s 19us/step - loss: 0.2797 - acc: 0.9220 - val_loss: 0.2783 - val_acc: 0.9221\n",
            "Epoch 131/300\n",
            "60000/60000 [==============================] - 1s 19us/step - loss: 0.2795 - acc: 0.9218 - val_loss: 0.2781 - val_acc: 0.9220\n",
            "Epoch 132/300\n",
            "60000/60000 [==============================] - 1s 19us/step - loss: 0.2793 - acc: 0.9220 - val_loss: 0.2780 - val_acc: 0.9221\n",
            "Epoch 133/300\n",
            "60000/60000 [==============================] - 1s 19us/step - loss: 0.2792 - acc: 0.9222 - val_loss: 0.2778 - val_acc: 0.9221\n",
            "Epoch 134/300\n",
            "60000/60000 [==============================] - 1s 19us/step - loss: 0.2790 - acc: 0.9224 - val_loss: 0.2778 - val_acc: 0.9221\n",
            "Epoch 135/300\n",
            "60000/60000 [==============================] - 1s 19us/step - loss: 0.2788 - acc: 0.9224 - val_loss: 0.2777 - val_acc: 0.9222\n",
            "Epoch 136/300\n",
            "60000/60000 [==============================] - 1s 19us/step - loss: 0.2786 - acc: 0.9224 - val_loss: 0.2775 - val_acc: 0.9221\n",
            "Epoch 137/300\n",
            "60000/60000 [==============================] - 1s 19us/step - loss: 0.2784 - acc: 0.9227 - val_loss: 0.2775 - val_acc: 0.9215\n",
            "Epoch 138/300\n",
            "60000/60000 [==============================] - 1s 19us/step - loss: 0.2782 - acc: 0.9227 - val_loss: 0.2774 - val_acc: 0.9223\n",
            "Epoch 139/300\n",
            "60000/60000 [==============================] - 1s 19us/step - loss: 0.2781 - acc: 0.9225 - val_loss: 0.2772 - val_acc: 0.9219\n",
            "Epoch 140/300\n",
            "60000/60000 [==============================] - 1s 19us/step - loss: 0.2779 - acc: 0.9225 - val_loss: 0.2774 - val_acc: 0.9219\n",
            "Epoch 141/300\n",
            "60000/60000 [==============================] - 1s 19us/step - loss: 0.2777 - acc: 0.9229 - val_loss: 0.2769 - val_acc: 0.9223\n",
            "Epoch 142/300\n",
            "60000/60000 [==============================] - 1s 19us/step - loss: 0.2775 - acc: 0.9228 - val_loss: 0.2767 - val_acc: 0.9221\n",
            "Epoch 143/300\n",
            "60000/60000 [==============================] - 1s 19us/step - loss: 0.2774 - acc: 0.9230 - val_loss: 0.2769 - val_acc: 0.9221\n",
            "Epoch 144/300\n",
            "60000/60000 [==============================] - 1s 19us/step - loss: 0.2772 - acc: 0.9231 - val_loss: 0.2768 - val_acc: 0.9222\n",
            "Epoch 145/300\n",
            "60000/60000 [==============================] - 1s 19us/step - loss: 0.2770 - acc: 0.9230 - val_loss: 0.2766 - val_acc: 0.9224\n",
            "Epoch 146/300\n",
            "60000/60000 [==============================] - 1s 19us/step - loss: 0.2769 - acc: 0.9227 - val_loss: 0.2768 - val_acc: 0.9221\n",
            "Epoch 147/300\n",
            "60000/60000 [==============================] - 1s 19us/step - loss: 0.2767 - acc: 0.9233 - val_loss: 0.2765 - val_acc: 0.9224\n",
            "Epoch 148/300\n",
            "60000/60000 [==============================] - 1s 19us/step - loss: 0.2766 - acc: 0.9232 - val_loss: 0.2764 - val_acc: 0.9222\n",
            "Epoch 149/300\n",
            "60000/60000 [==============================] - 1s 19us/step - loss: 0.2764 - acc: 0.9232 - val_loss: 0.2763 - val_acc: 0.9225\n",
            "Epoch 150/300\n",
            "60000/60000 [==============================] - 1s 19us/step - loss: 0.2762 - acc: 0.9233 - val_loss: 0.2764 - val_acc: 0.9221\n",
            "Epoch 151/300\n",
            "60000/60000 [==============================] - 1s 20us/step - loss: 0.2761 - acc: 0.9233 - val_loss: 0.2762 - val_acc: 0.9227\n",
            "Epoch 152/300\n",
            "60000/60000 [==============================] - 1s 19us/step - loss: 0.2759 - acc: 0.9234 - val_loss: 0.2761 - val_acc: 0.9225\n",
            "Epoch 153/300\n",
            "60000/60000 [==============================] - 1s 19us/step - loss: 0.2758 - acc: 0.9234 - val_loss: 0.2761 - val_acc: 0.9222\n",
            "Epoch 154/300\n",
            "60000/60000 [==============================] - 1s 19us/step - loss: 0.2756 - acc: 0.9235 - val_loss: 0.2757 - val_acc: 0.9224\n",
            "Epoch 155/300\n",
            "60000/60000 [==============================] - 1s 19us/step - loss: 0.2755 - acc: 0.9235 - val_loss: 0.2756 - val_acc: 0.9224\n",
            "Epoch 156/300\n",
            "60000/60000 [==============================] - 1s 19us/step - loss: 0.2753 - acc: 0.9235 - val_loss: 0.2757 - val_acc: 0.9220\n",
            "Epoch 157/300\n",
            "60000/60000 [==============================] - 1s 19us/step - loss: 0.2752 - acc: 0.9235 - val_loss: 0.2756 - val_acc: 0.9223\n",
            "Epoch 158/300\n",
            "60000/60000 [==============================] - 1s 20us/step - loss: 0.2750 - acc: 0.9237 - val_loss: 0.2758 - val_acc: 0.9224\n",
            "Epoch 159/300\n",
            "60000/60000 [==============================] - 1s 20us/step - loss: 0.2749 - acc: 0.9238 - val_loss: 0.2756 - val_acc: 0.9225\n",
            "Epoch 160/300\n",
            "60000/60000 [==============================] - 1s 20us/step - loss: 0.2747 - acc: 0.9236 - val_loss: 0.2754 - val_acc: 0.9219\n",
            "Epoch 161/300\n",
            "60000/60000 [==============================] - 1s 19us/step - loss: 0.2746 - acc: 0.9239 - val_loss: 0.2752 - val_acc: 0.9223\n",
            "Epoch 162/300\n",
            "60000/60000 [==============================] - 1s 19us/step - loss: 0.2744 - acc: 0.9241 - val_loss: 0.2754 - val_acc: 0.9230\n",
            "Epoch 163/300\n",
            "60000/60000 [==============================] - 1s 20us/step - loss: 0.2743 - acc: 0.9238 - val_loss: 0.2752 - val_acc: 0.9221\n",
            "Epoch 164/300\n",
            "60000/60000 [==============================] - 1s 19us/step - loss: 0.2742 - acc: 0.9239 - val_loss: 0.2748 - val_acc: 0.9221\n",
            "Epoch 165/300\n",
            "60000/60000 [==============================] - 1s 19us/step - loss: 0.2740 - acc: 0.9240 - val_loss: 0.2752 - val_acc: 0.9224\n",
            "Epoch 166/300\n",
            "60000/60000 [==============================] - 1s 19us/step - loss: 0.2739 - acc: 0.9243 - val_loss: 0.2750 - val_acc: 0.9222\n",
            "Epoch 167/300\n",
            "60000/60000 [==============================] - 1s 19us/step - loss: 0.2737 - acc: 0.9241 - val_loss: 0.2748 - val_acc: 0.9224\n",
            "Epoch 168/300\n",
            "60000/60000 [==============================] - 1s 19us/step - loss: 0.2736 - acc: 0.9242 - val_loss: 0.2747 - val_acc: 0.9222\n",
            "Epoch 169/300\n",
            "60000/60000 [==============================] - 1s 19us/step - loss: 0.2735 - acc: 0.9243 - val_loss: 0.2747 - val_acc: 0.9226\n",
            "Epoch 170/300\n",
            "60000/60000 [==============================] - 1s 19us/step - loss: 0.2733 - acc: 0.9241 - val_loss: 0.2746 - val_acc: 0.9227\n",
            "Epoch 171/300\n",
            "60000/60000 [==============================] - 1s 19us/step - loss: 0.2732 - acc: 0.9243 - val_loss: 0.2748 - val_acc: 0.9225\n",
            "Epoch 172/300\n",
            "60000/60000 [==============================] - 1s 19us/step - loss: 0.2731 - acc: 0.9244 - val_loss: 0.2746 - val_acc: 0.9226\n",
            "Epoch 173/300\n",
            "60000/60000 [==============================] - 1s 19us/step - loss: 0.2729 - acc: 0.9241 - val_loss: 0.2744 - val_acc: 0.9224\n",
            "Epoch 174/300\n",
            "60000/60000 [==============================] - 1s 19us/step - loss: 0.2729 - acc: 0.9244 - val_loss: 0.2742 - val_acc: 0.9223\n",
            "Epoch 175/300\n",
            "60000/60000 [==============================] - 1s 19us/step - loss: 0.2727 - acc: 0.9244 - val_loss: 0.2742 - val_acc: 0.9226\n",
            "Epoch 176/300\n",
            "60000/60000 [==============================] - 1s 20us/step - loss: 0.2726 - acc: 0.9246 - val_loss: 0.2739 - val_acc: 0.9224\n",
            "Epoch 177/300\n",
            "60000/60000 [==============================] - 1s 19us/step - loss: 0.2725 - acc: 0.9245 - val_loss: 0.2739 - val_acc: 0.9221\n",
            "Epoch 178/300\n",
            "60000/60000 [==============================] - 1s 19us/step - loss: 0.2723 - acc: 0.9246 - val_loss: 0.2740 - val_acc: 0.9228\n",
            "Epoch 179/300\n",
            "60000/60000 [==============================] - 1s 20us/step - loss: 0.2722 - acc: 0.9247 - val_loss: 0.2740 - val_acc: 0.9223\n",
            "Epoch 180/300\n",
            "60000/60000 [==============================] - 1s 19us/step - loss: 0.2721 - acc: 0.9246 - val_loss: 0.2737 - val_acc: 0.9224\n",
            "Epoch 181/300\n",
            "60000/60000 [==============================] - 1s 19us/step - loss: 0.2719 - acc: 0.9248 - val_loss: 0.2736 - val_acc: 0.9226\n",
            "Epoch 182/300\n",
            "60000/60000 [==============================] - 1s 20us/step - loss: 0.2718 - acc: 0.9248 - val_loss: 0.2739 - val_acc: 0.9226\n",
            "Epoch 183/300\n",
            "60000/60000 [==============================] - 1s 19us/step - loss: 0.2717 - acc: 0.9246 - val_loss: 0.2739 - val_acc: 0.9225\n",
            "Epoch 184/300\n",
            "60000/60000 [==============================] - 1s 19us/step - loss: 0.2716 - acc: 0.9248 - val_loss: 0.2736 - val_acc: 0.9222\n",
            "Epoch 185/300\n",
            "60000/60000 [==============================] - 1s 19us/step - loss: 0.2715 - acc: 0.9248 - val_loss: 0.2736 - val_acc: 0.9225\n",
            "Epoch 186/300\n",
            "60000/60000 [==============================] - 1s 19us/step - loss: 0.2713 - acc: 0.9249 - val_loss: 0.2737 - val_acc: 0.9230\n",
            "Epoch 187/300\n",
            "60000/60000 [==============================] - 1s 19us/step - loss: 0.2712 - acc: 0.9247 - val_loss: 0.2736 - val_acc: 0.9226\n",
            "Epoch 188/300\n",
            "60000/60000 [==============================] - 1s 20us/step - loss: 0.2711 - acc: 0.9249 - val_loss: 0.2736 - val_acc: 0.9224\n",
            "Epoch 189/300\n",
            "60000/60000 [==============================] - 1s 19us/step - loss: 0.2710 - acc: 0.9248 - val_loss: 0.2734 - val_acc: 0.9225\n",
            "Epoch 190/300\n",
            "60000/60000 [==============================] - 1s 19us/step - loss: 0.2709 - acc: 0.9252 - val_loss: 0.2733 - val_acc: 0.9225\n",
            "Epoch 191/300\n",
            "60000/60000 [==============================] - 1s 19us/step - loss: 0.2708 - acc: 0.9250 - val_loss: 0.2733 - val_acc: 0.9225\n",
            "Epoch 192/300\n",
            "60000/60000 [==============================] - 1s 19us/step - loss: 0.2706 - acc: 0.9251 - val_loss: 0.2731 - val_acc: 0.9231\n",
            "Epoch 193/300\n",
            "60000/60000 [==============================] - 1s 19us/step - loss: 0.2706 - acc: 0.9252 - val_loss: 0.2731 - val_acc: 0.9225\n",
            "Epoch 194/300\n",
            "60000/60000 [==============================] - 1s 19us/step - loss: 0.2705 - acc: 0.9252 - val_loss: 0.2730 - val_acc: 0.9231\n",
            "Epoch 195/300\n",
            "60000/60000 [==============================] - 1s 19us/step - loss: 0.2704 - acc: 0.9251 - val_loss: 0.2731 - val_acc: 0.9224\n",
            "Epoch 196/300\n",
            "60000/60000 [==============================] - 1s 19us/step - loss: 0.2702 - acc: 0.9252 - val_loss: 0.2730 - val_acc: 0.9224\n",
            "Epoch 197/300\n",
            "60000/60000 [==============================] - 1s 19us/step - loss: 0.2701 - acc: 0.9253 - val_loss: 0.2728 - val_acc: 0.9231\n",
            "Epoch 198/300\n",
            "60000/60000 [==============================] - 1s 19us/step - loss: 0.2700 - acc: 0.9253 - val_loss: 0.2729 - val_acc: 0.9223\n",
            "Epoch 199/300\n",
            "60000/60000 [==============================] - 1s 19us/step - loss: 0.2699 - acc: 0.9252 - val_loss: 0.2730 - val_acc: 0.9222\n",
            "Epoch 200/300\n",
            "60000/60000 [==============================] - 1s 19us/step - loss: 0.2698 - acc: 0.9254 - val_loss: 0.2727 - val_acc: 0.9231\n",
            "Epoch 201/300\n",
            "60000/60000 [==============================] - 1s 19us/step - loss: 0.2697 - acc: 0.9252 - val_loss: 0.2726 - val_acc: 0.9229\n",
            "Epoch 202/300\n",
            "60000/60000 [==============================] - 1s 20us/step - loss: 0.2696 - acc: 0.9254 - val_loss: 0.2727 - val_acc: 0.9227\n",
            "Epoch 203/300\n",
            "60000/60000 [==============================] - 1s 19us/step - loss: 0.2695 - acc: 0.9256 - val_loss: 0.2726 - val_acc: 0.9234\n",
            "Epoch 204/300\n",
            "60000/60000 [==============================] - 1s 20us/step - loss: 0.2694 - acc: 0.9255 - val_loss: 0.2724 - val_acc: 0.9237\n",
            "Epoch 205/300\n",
            "60000/60000 [==============================] - 1s 19us/step - loss: 0.2693 - acc: 0.9255 - val_loss: 0.2727 - val_acc: 0.9230\n",
            "Epoch 206/300\n",
            "60000/60000 [==============================] - 1s 19us/step - loss: 0.2692 - acc: 0.9254 - val_loss: 0.2724 - val_acc: 0.9227\n",
            "Epoch 207/300\n",
            "60000/60000 [==============================] - 1s 20us/step - loss: 0.2691 - acc: 0.9257 - val_loss: 0.2724 - val_acc: 0.9225\n",
            "Epoch 208/300\n",
            "60000/60000 [==============================] - 1s 20us/step - loss: 0.2690 - acc: 0.9256 - val_loss: 0.2723 - val_acc: 0.9226\n",
            "Epoch 209/300\n",
            "60000/60000 [==============================] - 1s 20us/step - loss: 0.2689 - acc: 0.9256 - val_loss: 0.2722 - val_acc: 0.9229\n",
            "Epoch 210/300\n",
            "60000/60000 [==============================] - 1s 19us/step - loss: 0.2688 - acc: 0.9259 - val_loss: 0.2723 - val_acc: 0.9233\n",
            "Epoch 211/300\n",
            "60000/60000 [==============================] - 1s 20us/step - loss: 0.2687 - acc: 0.9256 - val_loss: 0.2723 - val_acc: 0.9235\n",
            "Epoch 212/300\n",
            "60000/60000 [==============================] - 1s 19us/step - loss: 0.2686 - acc: 0.9257 - val_loss: 0.2721 - val_acc: 0.9230\n",
            "Epoch 213/300\n",
            "60000/60000 [==============================] - 1s 19us/step - loss: 0.2685 - acc: 0.9257 - val_loss: 0.2722 - val_acc: 0.9229\n",
            "Epoch 214/300\n",
            "60000/60000 [==============================] - 1s 19us/step - loss: 0.2684 - acc: 0.9257 - val_loss: 0.2720 - val_acc: 0.9231\n",
            "Epoch 215/300\n",
            "60000/60000 [==============================] - 1s 19us/step - loss: 0.2683 - acc: 0.9257 - val_loss: 0.2721 - val_acc: 0.9231\n",
            "Epoch 216/300\n",
            "60000/60000 [==============================] - 1s 19us/step - loss: 0.2682 - acc: 0.9257 - val_loss: 0.2718 - val_acc: 0.9233\n",
            "Epoch 217/300\n",
            "60000/60000 [==============================] - 1s 19us/step - loss: 0.2681 - acc: 0.9257 - val_loss: 0.2720 - val_acc: 0.9236\n",
            "Epoch 218/300\n",
            "60000/60000 [==============================] - 1s 19us/step - loss: 0.2680 - acc: 0.9261 - val_loss: 0.2720 - val_acc: 0.9231\n",
            "Epoch 219/300\n",
            "60000/60000 [==============================] - 1s 19us/step - loss: 0.2679 - acc: 0.9261 - val_loss: 0.2718 - val_acc: 0.9235\n",
            "Epoch 220/300\n",
            "60000/60000 [==============================] - 1s 19us/step - loss: 0.2678 - acc: 0.9260 - val_loss: 0.2718 - val_acc: 0.9227\n",
            "Epoch 221/300\n",
            "60000/60000 [==============================] - 1s 19us/step - loss: 0.2677 - acc: 0.9257 - val_loss: 0.2719 - val_acc: 0.9227\n",
            "Epoch 222/300\n",
            "60000/60000 [==============================] - 1s 19us/step - loss: 0.2676 - acc: 0.9260 - val_loss: 0.2716 - val_acc: 0.9232\n",
            "Epoch 223/300\n",
            "60000/60000 [==============================] - 1s 19us/step - loss: 0.2675 - acc: 0.9258 - val_loss: 0.2716 - val_acc: 0.9234\n",
            "Epoch 224/300\n",
            "60000/60000 [==============================] - 1s 19us/step - loss: 0.2674 - acc: 0.9262 - val_loss: 0.2718 - val_acc: 0.9229\n",
            "Epoch 225/300\n",
            "60000/60000 [==============================] - 1s 19us/step - loss: 0.2673 - acc: 0.9260 - val_loss: 0.2715 - val_acc: 0.9234\n",
            "Epoch 226/300\n",
            "60000/60000 [==============================] - 1s 19us/step - loss: 0.2673 - acc: 0.9261 - val_loss: 0.2715 - val_acc: 0.9236\n",
            "Epoch 227/300\n",
            "60000/60000 [==============================] - 1s 19us/step - loss: 0.2672 - acc: 0.9261 - val_loss: 0.2714 - val_acc: 0.9233\n",
            "Epoch 228/300\n",
            "60000/60000 [==============================] - 1s 19us/step - loss: 0.2671 - acc: 0.9263 - val_loss: 0.2714 - val_acc: 0.9233\n",
            "Epoch 229/300\n",
            "60000/60000 [==============================] - 1s 19us/step - loss: 0.2670 - acc: 0.9263 - val_loss: 0.2715 - val_acc: 0.9229\n",
            "Epoch 230/300\n",
            "60000/60000 [==============================] - 1s 19us/step - loss: 0.2669 - acc: 0.9261 - val_loss: 0.2715 - val_acc: 0.9228\n",
            "Epoch 231/300\n",
            "60000/60000 [==============================] - 1s 20us/step - loss: 0.2668 - acc: 0.9264 - val_loss: 0.2714 - val_acc: 0.9234\n",
            "Epoch 232/300\n",
            "60000/60000 [==============================] - 1s 22us/step - loss: 0.2667 - acc: 0.9263 - val_loss: 0.2713 - val_acc: 0.9233\n",
            "Epoch 233/300\n",
            "60000/60000 [==============================] - 1s 22us/step - loss: 0.2667 - acc: 0.9261 - val_loss: 0.2711 - val_acc: 0.9234\n",
            "Epoch 234/300\n",
            "60000/60000 [==============================] - 1s 22us/step - loss: 0.2665 - acc: 0.9263 - val_loss: 0.2713 - val_acc: 0.9234\n",
            "Epoch 235/300\n",
            "60000/60000 [==============================] - 1s 22us/step - loss: 0.2665 - acc: 0.9263 - val_loss: 0.2710 - val_acc: 0.9234\n",
            "Epoch 236/300\n",
            "60000/60000 [==============================] - 1s 22us/step - loss: 0.2664 - acc: 0.9264 - val_loss: 0.2710 - val_acc: 0.9232\n",
            "Epoch 237/300\n",
            "60000/60000 [==============================] - 1s 22us/step - loss: 0.2663 - acc: 0.9264 - val_loss: 0.2709 - val_acc: 0.9238\n",
            "Epoch 238/300\n",
            "60000/60000 [==============================] - 1s 22us/step - loss: 0.2662 - acc: 0.9264 - val_loss: 0.2708 - val_acc: 0.9236\n",
            "Epoch 239/300\n",
            "60000/60000 [==============================] - 1s 22us/step - loss: 0.2661 - acc: 0.9262 - val_loss: 0.2708 - val_acc: 0.9237\n",
            "Epoch 240/300\n",
            "60000/60000 [==============================] - 1s 20us/step - loss: 0.2660 - acc: 0.9265 - val_loss: 0.2710 - val_acc: 0.9234\n",
            "Epoch 241/300\n",
            "60000/60000 [==============================] - 1s 20us/step - loss: 0.2660 - acc: 0.9265 - val_loss: 0.2708 - val_acc: 0.9238\n",
            "Epoch 242/300\n",
            "60000/60000 [==============================] - 1s 20us/step - loss: 0.2659 - acc: 0.9266 - val_loss: 0.2708 - val_acc: 0.9234\n",
            "Epoch 243/300\n",
            "60000/60000 [==============================] - 1s 19us/step - loss: 0.2658 - acc: 0.9267 - val_loss: 0.2709 - val_acc: 0.9230\n",
            "Epoch 244/300\n",
            "60000/60000 [==============================] - 1s 19us/step - loss: 0.2657 - acc: 0.9268 - val_loss: 0.2708 - val_acc: 0.9232\n",
            "Epoch 245/300\n",
            "60000/60000 [==============================] - 1s 20us/step - loss: 0.2656 - acc: 0.9267 - val_loss: 0.2706 - val_acc: 0.9237\n",
            "Epoch 246/300\n",
            "60000/60000 [==============================] - 1s 19us/step - loss: 0.2656 - acc: 0.9267 - val_loss: 0.2707 - val_acc: 0.9234\n",
            "Epoch 247/300\n",
            "60000/60000 [==============================] - 1s 19us/step - loss: 0.2655 - acc: 0.9265 - val_loss: 0.2705 - val_acc: 0.9238\n",
            "Epoch 248/300\n",
            "60000/60000 [==============================] - 1s 19us/step - loss: 0.2654 - acc: 0.9270 - val_loss: 0.2704 - val_acc: 0.9238\n",
            "Epoch 249/300\n",
            "60000/60000 [==============================] - 1s 19us/step - loss: 0.2653 - acc: 0.9270 - val_loss: 0.2705 - val_acc: 0.9234\n",
            "Epoch 250/300\n",
            "60000/60000 [==============================] - 1s 20us/step - loss: 0.2652 - acc: 0.9268 - val_loss: 0.2706 - val_acc: 0.9232\n",
            "Epoch 251/300\n",
            "60000/60000 [==============================] - 1s 20us/step - loss: 0.2652 - acc: 0.9269 - val_loss: 0.2706 - val_acc: 0.9231\n",
            "Epoch 252/300\n",
            "60000/60000 [==============================] - 1s 20us/step - loss: 0.2651 - acc: 0.9269 - val_loss: 0.2705 - val_acc: 0.9234\n",
            "Epoch 253/300\n",
            "60000/60000 [==============================] - 1s 20us/step - loss: 0.2650 - acc: 0.9269 - val_loss: 0.2704 - val_acc: 0.9234\n",
            "Epoch 254/300\n",
            "60000/60000 [==============================] - 1s 20us/step - loss: 0.2649 - acc: 0.9270 - val_loss: 0.2705 - val_acc: 0.9233\n",
            "Epoch 255/300\n",
            "60000/60000 [==============================] - 1s 19us/step - loss: 0.2649 - acc: 0.9268 - val_loss: 0.2704 - val_acc: 0.9231\n",
            "Epoch 256/300\n",
            "60000/60000 [==============================] - 1s 19us/step - loss: 0.2648 - acc: 0.9270 - val_loss: 0.2703 - val_acc: 0.9236\n",
            "Epoch 257/300\n",
            "60000/60000 [==============================] - 1s 20us/step - loss: 0.2647 - acc: 0.9270 - val_loss: 0.2703 - val_acc: 0.9232\n",
            "Epoch 258/300\n",
            "60000/60000 [==============================] - 1s 19us/step - loss: 0.2646 - acc: 0.9268 - val_loss: 0.2704 - val_acc: 0.9232\n",
            "Epoch 259/300\n",
            "60000/60000 [==============================] - 1s 19us/step - loss: 0.2646 - acc: 0.9271 - val_loss: 0.2701 - val_acc: 0.9238\n",
            "Epoch 260/300\n",
            "60000/60000 [==============================] - 1s 19us/step - loss: 0.2645 - acc: 0.9271 - val_loss: 0.2701 - val_acc: 0.9232\n",
            "Epoch 261/300\n",
            "60000/60000 [==============================] - 1s 19us/step - loss: 0.2644 - acc: 0.9269 - val_loss: 0.2702 - val_acc: 0.9232\n",
            "Epoch 262/300\n",
            "60000/60000 [==============================] - 1s 19us/step - loss: 0.2643 - acc: 0.9268 - val_loss: 0.2699 - val_acc: 0.9237\n",
            "Epoch 263/300\n",
            "60000/60000 [==============================] - 1s 19us/step - loss: 0.2642 - acc: 0.9272 - val_loss: 0.2699 - val_acc: 0.9238\n",
            "Epoch 264/300\n",
            "60000/60000 [==============================] - 1s 19us/step - loss: 0.2642 - acc: 0.9270 - val_loss: 0.2700 - val_acc: 0.9235\n",
            "Epoch 265/300\n",
            "60000/60000 [==============================] - 1s 19us/step - loss: 0.2641 - acc: 0.9270 - val_loss: 0.2699 - val_acc: 0.9236\n",
            "Epoch 266/300\n",
            "60000/60000 [==============================] - 1s 19us/step - loss: 0.2640 - acc: 0.9270 - val_loss: 0.2702 - val_acc: 0.9233\n",
            "Epoch 267/300\n",
            "60000/60000 [==============================] - 1s 20us/step - loss: 0.2640 - acc: 0.9273 - val_loss: 0.2698 - val_acc: 0.9234\n",
            "Epoch 268/300\n",
            "60000/60000 [==============================] - 1s 19us/step - loss: 0.2639 - acc: 0.9269 - val_loss: 0.2699 - val_acc: 0.9234\n",
            "Epoch 269/300\n",
            "60000/60000 [==============================] - 1s 19us/step - loss: 0.2638 - acc: 0.9271 - val_loss: 0.2698 - val_acc: 0.9238\n",
            "Epoch 270/300\n",
            "60000/60000 [==============================] - 1s 20us/step - loss: 0.2638 - acc: 0.9271 - val_loss: 0.2700 - val_acc: 0.9229\n",
            "Epoch 271/300\n",
            "60000/60000 [==============================] - 1s 20us/step - loss: 0.2637 - acc: 0.9273 - val_loss: 0.2698 - val_acc: 0.9231\n",
            "Epoch 272/300\n",
            "60000/60000 [==============================] - 1s 19us/step - loss: 0.2636 - acc: 0.9273 - val_loss: 0.2697 - val_acc: 0.9234\n",
            "Epoch 273/300\n",
            "60000/60000 [==============================] - 1s 19us/step - loss: 0.2635 - acc: 0.9273 - val_loss: 0.2698 - val_acc: 0.9235\n",
            "Epoch 274/300\n",
            "60000/60000 [==============================] - 1s 19us/step - loss: 0.2635 - acc: 0.9271 - val_loss: 0.2698 - val_acc: 0.9233\n",
            "Epoch 275/300\n",
            "60000/60000 [==============================] - 1s 19us/step - loss: 0.2634 - acc: 0.9273 - val_loss: 0.2696 - val_acc: 0.9234\n",
            "Epoch 276/300\n",
            "60000/60000 [==============================] - 1s 20us/step - loss: 0.2633 - acc: 0.9271 - val_loss: 0.2697 - val_acc: 0.9234\n",
            "Epoch 277/300\n",
            "60000/60000 [==============================] - 1s 19us/step - loss: 0.2633 - acc: 0.9274 - val_loss: 0.2698 - val_acc: 0.9232\n",
            "Epoch 278/300\n",
            "60000/60000 [==============================] - 1s 19us/step - loss: 0.2632 - acc: 0.9272 - val_loss: 0.2695 - val_acc: 0.9237\n",
            "Epoch 279/300\n",
            "60000/60000 [==============================] - 1s 19us/step - loss: 0.2631 - acc: 0.9274 - val_loss: 0.2698 - val_acc: 0.9233\n",
            "Epoch 280/300\n",
            "60000/60000 [==============================] - 1s 19us/step - loss: 0.2631 - acc: 0.9273 - val_loss: 0.2696 - val_acc: 0.9233\n",
            "Epoch 281/300\n",
            "60000/60000 [==============================] - 1s 19us/step - loss: 0.2630 - acc: 0.9272 - val_loss: 0.2695 - val_acc: 0.9233\n",
            "Epoch 282/300\n",
            "60000/60000 [==============================] - 1s 19us/step - loss: 0.2629 - acc: 0.9272 - val_loss: 0.2695 - val_acc: 0.9233\n",
            "Epoch 283/300\n",
            "60000/60000 [==============================] - 1s 19us/step - loss: 0.2628 - acc: 0.9271 - val_loss: 0.2695 - val_acc: 0.9237\n",
            "Epoch 284/300\n",
            "60000/60000 [==============================] - 1s 19us/step - loss: 0.2628 - acc: 0.9274 - val_loss: 0.2695 - val_acc: 0.9236\n",
            "Epoch 285/300\n",
            "60000/60000 [==============================] - 1s 19us/step - loss: 0.2627 - acc: 0.9275 - val_loss: 0.2694 - val_acc: 0.9234\n",
            "Epoch 286/300\n",
            "60000/60000 [==============================] - 1s 20us/step - loss: 0.2627 - acc: 0.9276 - val_loss: 0.2695 - val_acc: 0.9232\n",
            "Epoch 287/300\n",
            "60000/60000 [==============================] - 1s 19us/step - loss: 0.2626 - acc: 0.9276 - val_loss: 0.2693 - val_acc: 0.9233\n",
            "Epoch 288/300\n",
            "60000/60000 [==============================] - 1s 20us/step - loss: 0.2625 - acc: 0.9273 - val_loss: 0.2691 - val_acc: 0.9237\n",
            "Epoch 289/300\n",
            "60000/60000 [==============================] - 1s 19us/step - loss: 0.2624 - acc: 0.9275 - val_loss: 0.2693 - val_acc: 0.9232\n",
            "Epoch 290/300\n",
            "60000/60000 [==============================] - 1s 19us/step - loss: 0.2624 - acc: 0.9275 - val_loss: 0.2693 - val_acc: 0.9234\n",
            "Epoch 291/300\n",
            "60000/60000 [==============================] - 1s 19us/step - loss: 0.2623 - acc: 0.9276 - val_loss: 0.2693 - val_acc: 0.9237\n",
            "Epoch 292/300\n",
            "60000/60000 [==============================] - 1s 19us/step - loss: 0.2623 - acc: 0.9274 - val_loss: 0.2694 - val_acc: 0.9235\n",
            "Epoch 293/300\n",
            "60000/60000 [==============================] - 1s 19us/step - loss: 0.2622 - acc: 0.9277 - val_loss: 0.2692 - val_acc: 0.9235\n",
            "Epoch 294/300\n",
            "60000/60000 [==============================] - 1s 20us/step - loss: 0.2622 - acc: 0.9278 - val_loss: 0.2692 - val_acc: 0.9232\n",
            "Epoch 295/300\n",
            "60000/60000 [==============================] - 1s 19us/step - loss: 0.2621 - acc: 0.9276 - val_loss: 0.2690 - val_acc: 0.9236\n",
            "Epoch 296/300\n",
            "60000/60000 [==============================] - 1s 19us/step - loss: 0.2620 - acc: 0.9278 - val_loss: 0.2693 - val_acc: 0.9234\n",
            "Epoch 297/300\n",
            "60000/60000 [==============================] - 1s 19us/step - loss: 0.2620 - acc: 0.9277 - val_loss: 0.2692 - val_acc: 0.9232\n",
            "Epoch 298/300\n",
            "60000/60000 [==============================] - 1s 19us/step - loss: 0.2619 - acc: 0.9275 - val_loss: 0.2691 - val_acc: 0.9233\n",
            "Epoch 299/300\n",
            "60000/60000 [==============================] - 1s 19us/step - loss: 0.2618 - acc: 0.9278 - val_loss: 0.2690 - val_acc: 0.9235\n",
            "Epoch 300/300\n",
            "60000/60000 [==============================] - 1s 19us/step - loss: 0.2618 - acc: 0.9277 - val_loss: 0.2691 - val_acc: 0.9234\n"
          ],
          "name": "stdout"
        }
      ]
    },
    {
      "metadata": {
        "id": "ysygoG_ltstj",
        "colab_type": "code",
        "outputId": "5e4da9f9-a536-441f-aeae-35619b2cd50f",
        "colab": {
          "base_uri": "https://localhost:8080/",
          "height": 587
        }
      },
      "cell_type": "code",
      "source": [
        "plot_history(history.history, title='output of the fitting procedure')"
      ],
      "execution_count": 12,
      "outputs": [
        {
          "output_type": "execute_result",
          "data": {
            "image/png": "[encoded data removed]",
            "text/plain": [
              "<Figure size 432x288 with 2 Axes>"
            ]
          },
          "metadata": {
            "tags": []
          },
          "execution_count": 12
        },
        {
          "output_type": "display_data",
          "data": {
            "image/png": "[encoded data removed]",
            "text/plain": [
              "<Figure size 432x288 with 2 Axes>"
            ]
          },
          "metadata": {
            "tags": []
          }
        }
      ]
    },
    {
      "metadata": {
        "id": "TCGs_Slztstm",
        "colab_type": "code",
        "outputId": "26d5a1e2-3acc-446b-b59d-f07cd7eecfe3",
        "colab": {
          "base_uri": "https://localhost:8080/",
          "height": 533
        }
      },
      "cell_type": "code",
      "source": [
        "error_indices=np.flatnonzero((keras.utils.to_categorical(model.predict(x_test).argmax(1))-y_test).max(1))\n",
        "plot_some_samples(x_test, y_test, model.predict(x_test), error_indices,label_mapping = range(10))"
      ],
      "execution_count": 13,
      "outputs": [
        {
          "output_type": "execute_result",
          "data": {
            "image/png": "[encoded data removed]",
            "text/plain": [
              "<Figure size 432x288 with 24 Axes>"
            ]
          },
          "metadata": {
            "tags": []
          },
          "execution_count": 13
        },
        {
          "output_type": "display_data",
          "data": {
            "image/png": "[encoded data removed]",
            "text/plain": [
              "<Figure size 432x288 with 24 Axes>"
            ]
          },
          "metadata": {
            "tags": []
          }
        }
      ]
    },
    {
      "metadata": {
        "id": "BTfh8dCftstt",
        "colab_type": "text"
      },
      "cell_type": "markdown",
      "source": [
        "Answer to question 10:"
      ]
    },
    {
      "metadata": {
        "id": "TQR_F6Nctstv",
        "colab_type": "text"
      },
      "cell_type": "markdown",
      "source": [
        "I couldn't find a question 10. For question 8, the green and red numbers correspond to the  corresponding labels of the images above, and the predicted labels. We can observe that many errors of the predicting algorithm are understandable because some fours look like nines, and some sixes look like zeros."
      ]
    },
    {
      "metadata": {
        "scrolled": true,
        "id": "miL7Sahotstx",
        "colab_type": "code",
        "colab": {}
      },
      "cell_type": "code",
      "source": [
        "from keras.models import Sequential\n",
        "from keras.layers import Dense, Activation\n",
        "\n",
        "epochs=300\n",
        "\n",
        "model_fashion = Sequential([\n",
        "    Dense(10, input_shape=(784,)),\n",
        "    Activation('softmax')\n",
        "])\n",
        "\n",
        "sgd_fashion = keras.optimizers.SGD(lr=0.01, clipnorm=1.)\n",
        "model_fashion.compile(optimizer=sgd_fashion,\n",
        "              loss='categorical_crossentropy',\n",
        "              metrics=['acc'])\n",
        "\n",
        "# Train the model, iterating on the data in batches of 128 samples\n",
        "history_fashion=model_fashion.fit(x_fashion_train, y_fashion_train, epochs=epochs, batch_size=128, validation_data=(x_fashion_test, y_fashion_test))\n",
        "\n"
      ],
      "execution_count": 0,
      "outputs": []
    },
    {
      "metadata": {
        "id": "-TQuQmdxDC4t",
        "colab_type": "code",
        "colab": {}
      },
      "cell_type": "code",
      "source": [
        "save(history_fashion, model_fashion, '2.2')"
      ],
      "execution_count": 0,
      "outputs": []
    },
    {
      "metadata": {
        "id": "zQzqO2G6tst2",
        "colab_type": "code",
        "colab": {}
      },
      "cell_type": "code",
      "source": [
        "plot_history(history.history, title='output of the fitting procedure for fashion dataset')"
      ],
      "execution_count": 0,
      "outputs": []
    },
    {
      "metadata": {
        "id": "M7orDInYtst8",
        "colab_type": "code",
        "colab": {}
      },
      "cell_type": "code",
      "source": [
        "error_indices=np.flatnonzero(\n",
        "    (\n",
        "        keras.utils.to_categorical( model_fashion.predict(x_fashion_test).argmax(1) )  - y_fashion_test\n",
        "    ).max(1)\n",
        ")\n",
        "\n",
        "\n",
        "\n",
        "label_mapping=['T-sh'\n",
        ",'Trou'\n",
        ",'Pull'\n",
        ",'Dres'\n",
        ",'Coat'\n",
        ",'San'\n",
        ",'Shir'\n",
        ",'Snea'\n",
        ",'Bag'\n",
        ",'Boot']\n",
        "\n",
        "plot_some_samples(x_fashion_test, y_fashion_test, model_fashion.predict(x_fashion_test), error_indices,label_mapping = label_mapping)"
      ],
      "execution_count": 0,
      "outputs": []
    },
    {
      "metadata": {
        "id": "C02TOwEhtst-",
        "colab_type": "text"
      },
      "cell_type": "markdown",
      "source": [
        "## Exercise 3: One hidden layer, different optizimizers & overfitting (10 points)\n",
        "\n",
        "### Description\n",
        "\n",
        "Train a network with one hidden layer and compare different optimizers.\n",
        "\n",
        "1. Use one hidden layer with 128 units and the 'relu' activation. Use the [summary method](https://keras.io/models/about-keras-models/) to display your model in a compact way. (1 pt)\n",
        "2. Fit the model for 50 epochs with different learning rates of stochastic gradient descent (SGD). (1pt)\n",
        "3. Replace the stochastic gradient descent optimizer with the [Adam optimizer](https://keras.io/optimizers/#adam). (1pt)\n",
        "4. Plot the learning curves of SGD with a reasonable learning rate (i.e. in the range [0.01,0.1]) together with the learning curves of Adam in the same figure. Take care of a reasonable labeling of the curves in the plot. (2pts)\n",
        "5. Answer the questions below. (4pts)\n",
        "6. Run the network (using the Adam optimizer) on the Fashion-MNIST dataset and plot the learning curves using the plot_history function defined above. (1pt)"
      ]
    },
    {
      "metadata": {
        "id": "kXCum03Ptst_",
        "colab_type": "text"
      },
      "cell_type": "markdown",
      "source": [
        "### Solution\n",
        "! attention: very long execution !"
      ]
    },
    {
      "metadata": {
        "id": "Qj6ykYYac1fF",
        "colab_type": "code",
        "colab": {}
      },
      "cell_type": "code",
      "source": [
        "############## 3.1 ###############\n",
        "\n",
        "model3 = Sequential([\n",
        "    Dense(128, input_shape=(784,)),\n",
        "    Activation('relu'),\n",
        "    Dense(10),\n",
        "    Activation('softmax'),\n",
        "])\n",
        "\n",
        "model3.summary()"
      ],
      "execution_count": 0,
      "outputs": []
    },
    {
      "metadata": {
        "scrolled": true,
        "id": "_F6gLAqqtsuA",
        "colab_type": "code",
        "colab": {}
      },
      "cell_type": "code",
      "source": [
        "\n",
        "\n",
        "\n",
        "################ 3.2 ###############\n",
        "\n",
        "lr=[0.01, 0.03, 0.09]\n",
        "historys={'adam':[],'sgd':[]}\n",
        "epochs=50 # must be 50 by requirement\n",
        "\n",
        "\n",
        "for i in range(len(lr)):\n",
        "  ##### delete\n",
        "    pass\n",
        "    sgd3 = keras.optimizers.SGD(lr=lr[i], clipnorm=1.)\n",
        "    model3.compile(optimizer=sgd3,\n",
        "                  loss='categorical_crossentropy',\n",
        "                  metrics=['acc'])\n",
        "\n",
        "    historys['sgd']+=[model3.fit(x_train, y_train, epochs=epochs, batch_size=128, validation_data=(x_test, y_test))]\n",
        "\n",
        "    \n",
        "model3 = Sequential([\n",
        "    Dense(128, input_shape=(784,)),\n",
        "    Activation('relu'),\n",
        "    Dense(10),\n",
        "    Activation('softmax'),\n",
        "])\n",
        "\n",
        "    \n",
        "\n",
        "for i in range(len(lr)):\n",
        "    adam3 = keras.optimizers.Adam(lr=lr[i], beta_1=0.9, beta_2=0.999)\n",
        "    model3.compile(optimizer=adam3,\n",
        "                  loss='categorical_crossentropy',\n",
        "                  metrics=['acc'])\n",
        "\n",
        "    historys['adam']+=[model3.fit(x_train, y_train, epochs=epochs, batch_size=128, validation_data=(x_test, y_test))]\n",
        "\n",
        "\n",
        "\n"
      ],
      "execution_count": 0,
      "outputs": []
    },
    {
      "metadata": {
        "id": "VXlJHgr4Dt0x",
        "colab_type": "code",
        "colab": {}
      },
      "cell_type": "code",
      "source": [
        "\n",
        "# This plotting routine might help you ...\n",
        "def comparison_plot(history_sgd, history_adam, label1, label2, title):\n",
        "    fig, ax1, ax2 = prepare_standardplot(title, \"epochs\")\n",
        "    ax1.plot(history_sgd.history['loss'], label=label1 + ' training')\n",
        "    ax1.plot(history_sgd.history['val_loss'], label=label1 + ' validation')\n",
        "    ax1.plot(history_adam.history['loss'], label=label2 + ' training')\n",
        "    ax1.plot(history_adam.history['val_loss'], label=label2 + ' validation')\n",
        "    ax2.plot(history_sgd.history['acc'], label=label1 + ' training')\n",
        "    ax2.plot(history_sgd.history['val_acc'], label=label1 + ' validation')\n",
        "    ax2.plot(history_adam.history['acc'], label=label2 + ' training')\n",
        "    ax2.plot(history_adam.history['val_acc'], label=label2 + ' validation')\n",
        "    finalize_standardplot(fig, ax1, ax2)\n",
        "    return fig"
      ],
      "execution_count": 0,
      "outputs": []
    },
    {
      "metadata": {
        "id": "pA-sdeMOtsuF",
        "colab_type": "code",
        "colab": {}
      },
      "cell_type": "code",
      "source": [
        "##### Do not execute !\n",
        "for i in range(len(lr)):\n",
        "    comparison_plot(historys['sgd'][i], historys['adam'][i], 'sgd', 'adam', 'Numbers: fitting procedure with lr='+str(lr[i]))"
      ],
      "execution_count": 0,
      "outputs": []
    },
    {
      "metadata": {
        "id": "LFT4PJMSEizT",
        "colab_type": "code",
        "colab": {}
      },
      "cell_type": "code",
      "source": [
        "save(historys, model3, '3.3')"
      ],
      "execution_count": 0,
      "outputs": []
    },
    {
      "metadata": {
        "id": "ycTeuRM-tsuN",
        "colab_type": "code",
        "colab": {}
      },
      "cell_type": "code",
      "source": [
        "##################### 3.5 ################"
      ],
      "execution_count": 0,
      "outputs": []
    },
    {
      "metadata": {
        "id": "TG39EgIrtsuQ",
        "colab_type": "text"
      },
      "cell_type": "markdown",
      "source": [
        "\n",
        "**Question**: What happens if the learning rate of SGD is A) very large B) very small? Please answer A) and B) with one full sentence each (double click this markdown cell to edit).\n",
        "\n",
        "**Answer**:\n",
        "\n",
        "A) The gradient descent can overshoot the minimum, it might fail to converge or diverge.\n",
        "\n",
        "B) The gradient descent will converge so slowly to the minimum, that it might take too much computational time.\n",
        "\n",
        "**Question**: At which epoch (approximately) does the Adam optimizer start to overfit (on MNIST)? Please answer with one full sentence.\n",
        "\n",
        "**Answer**:\n",
        "\n",
        "**Question**: Explain the qualitative difference between the loss curves and the accuracy curves with respect to signs of overfitting. Please answer with at most 3 full sentences.\n",
        "\n",
        "**Answer**: The sign of overfitting for the loss curve is when the decreasing loss finds it's minimum and starts increasing.\n",
        "The sign of overfitting for the accuracy curve is when the increasing accuracy finds it's maximum and starts decreasing."
      ]
    },
    {
      "metadata": {
        "scrolled": true,
        "id": "9Et6xkemtsuR",
        "colab_type": "code",
        "colab": {}
      },
      "cell_type": "code",
      "source": [
        "######################### 3.6 ####################\n",
        "\n",
        "model3 = Sequential([\n",
        "    Dense(128, input_shape=(784,)),\n",
        "    Activation('relu'),\n",
        "    Dense(10),\n",
        "    Activation('softmax'),\n",
        "])\n",
        "\n",
        "### parameters\n",
        "lr=[0.01, 0.03, 0.09]\n",
        "historys={'adam':[],'sgd':[]}\n",
        "epochs=3\n",
        "\n",
        "\n",
        "for i in range(len(lr)):\n",
        "    sgd3 = keras.optimizers.SGD(lr=lr[i], clipnorm=1.)\n",
        "    model3.compile(optimizer=sgd3,\n",
        "                  loss='categorical_crossentropy',\n",
        "                  metrics=['acc'])\n",
        "\n",
        "    historys['sgd']+=[model3.fit(x_fashion_train, y_fashion_train, epochs=epochs, batch_size=128, validation_data=(x_fashion_test, y_fashion_test))]\n",
        "\n",
        "\n",
        "\n",
        "for i in range(len(lr)):\n",
        "    adam3 = keras.optimizers.Adam(lr=lr[i], beta_1=0.9, beta_2=0.999)\n",
        "    model3.compile(optimizer=adam3,\n",
        "                  loss='categorical_crossentropy',\n",
        "                  metrics=['acc'])\n",
        "\n",
        "    historys['adam']+=[model3.fit(x_fashion_train, y_fashion_train, epochs=epochs, batch_size=128, validation_data=(x_fashion_test, y_fashion_test))]\n",
        "\n",
        "\n",
        "# This plotting routine might help you ...\n",
        "def comparison_plot(history_sgd, history_adam, label1, label2, title):\n",
        "    fig, ax1, ax2 = prepare_standardplot(title, \"epochs\")\n",
        "    ax1.plot(history_sgd.history['loss'], label=label1 + ' training')\n",
        "    ax1.plot(history_sgd.history['val_loss'], label=label1 + ' validation')\n",
        "    ax1.plot(history_adam.history['loss'], label=label2 + ' training')\n",
        "    ax1.plot(history_adam.history['val_loss'], label=label2 + ' validation')\n",
        "    ax2.plot(history_sgd.history['acc'], label=label1 + ' training')\n",
        "    ax2.plot(history_sgd.history['val_acc'], label=label1 + ' validation')\n",
        "    ax2.plot(history_adam.history['acc'], label=label2 + ' training')\n",
        "    ax2.plot(history_adam.history['val_acc'], label=label2 + ' validation')\n",
        "    finalize_standardplot(fig, ax1, ax2)\n",
        "    return fig\n",
        "\n",
        "\n"
      ],
      "execution_count": 0,
      "outputs": []
    },
    {
      "metadata": {
        "id": "9H6Axt0CtsuT",
        "colab_type": "code",
        "colab": {}
      },
      "cell_type": "code",
      "source": [
        "\n",
        "for i in range(len(lr)):\n",
        "    comparison_plot(historys['sgd'], historys['adam'], 'sgd', 'adam', 'Fashion: fitting procedure with lr='+str(lr[i]))"
      ],
      "execution_count": 0,
      "outputs": []
    },
    {
      "metadata": {
        "id": "h79KTvbStsuW",
        "colab_type": "text"
      },
      "cell_type": "markdown",
      "source": [
        "## Exercise 4: Model performance as a function of number of hidden neurons (8 points)\n",
        "\n",
        "### Description\n",
        "\n",
        "Investigate how the best validation loss and accuracy depends on the number of hidden neurons in a single layer.\n",
        "\n",
        "1. Fit a reasonable number of models (e.g. 5) with different hidden layer sizes (between 10 and 1000 hidden neurons) to the MNIST dataset. You may use the Adam optimizer and a meaningful number of epochs (overfitting!). (3 pts)\n",
        "2. Plot the best validation loss and accuracy versus the number of hidden neurons. Is the observed trend in accordance with the [general approximation theorem](https://en.wikipedia.org/wiki/Universal_approximation_theorem)? If not, what might be practical reasons for the deviation? (2 sentences max.) (3 pts)\n",
        "3. Repeat steps 1. & 2. for the Fashion-MNIST dataset. (2 pts)\n",
        "\n",
        "In this exercise we fit each model only for one initialization and random seed. In practice one would collect some statistics (e.g. 25-, 50-, 75-percentiles) for each layer size by fitting each model several times with different initializations and the random seeds. You may also want to do this here. It is a good exercise, but not mandatory as it takes quite a bit of computation time.\n",
        "\n",
        "### Solution"
      ]
    },
    {
      "metadata": {
        "ExecuteTime": {
          "end_time": "2018-02-23T14:58:15.181352Z",
          "start_time": "2018-02-23T14:31:52.623267Z"
        },
        "scrolled": true,
        "id": "zcNltZjttsuX",
        "colab_type": "code",
        "colab": {}
      },
      "cell_type": "code",
      "source": [
        "# computation of the data\n",
        "for dataset in ['numbers', 'fashion']:\n",
        "    \n",
        "    data={}\n",
        "    data['hidden neurons']=[10, 300, 600, 800, 1000]\n",
        "    data['history']=[]\n",
        "    data['epochs']=[2, 2, 2, 2, 2] # <----- change the epochs here !\n",
        "    data['best validation loss']=[]\n",
        "    data['best validation accuracy']=[]\n",
        "\n",
        "    \n",
        "    for i in range(len(data['hidden neurons'])):\n",
        "        model4= Sequential([\n",
        "            Dense(data['hidden neurons'][i], input_shape=(784,)),\n",
        "            Activation('relu'),\n",
        "            Dense(10),\n",
        "            Activation('softmax'),\n",
        "        ])\n",
        "\n",
        "\n",
        "\n",
        "        adam3 = keras.optimizers.Adam(lr=0.01, beta_1=0.9, beta_2=0.999)\n",
        "        model4.compile(optimizer=adam3,\n",
        "                      loss='categorical_crossentropy',\n",
        "                      metrics=['acc'])\n",
        "        \n",
        "        h=model4.fit(x_tr[dataset], y_tr[dataset], epochs=data['epochs'][i],\n",
        "                                     batch_size=128, validation_data=(x_te[dataset], y_te[dataset]))\n",
        "\n",
        "        data['history'].append(h.history)\n",
        "        data['best validation loss']+=[ np.array(data['history'][-1]['val_loss']).min()]\n",
        "        data['best validation accuracy']+=[ np.array(data['history'][-1]['val_acc']).max()]\n",
        "\n",
        "        \n",
        "    with open('4'+dataset+'.json', 'w') as outfile:\n",
        "        json.dump(data, outfile)"
      ],
      "execution_count": 0,
      "outputs": []
    },
    {
      "metadata": {
        "id": "hkhQkAPotsuc",
        "colab_type": "code",
        "colab": {}
      },
      "cell_type": "code",
      "source": [
        "#################### 4 ##################\n",
        "#plot the data\n",
        "for dataset in ['numbers','fashion']:\n",
        "\n",
        "    with open('4'+dataset+'.json', 'r') as infile:\n",
        "        data=json.load(infile)\n",
        "    fig, ax1, ax2 = prepare_standardplot('Performance (loss and accuracy) by number of hidden neurons '\n",
        "                                         +'(dataset: '+dataset+')' ,\n",
        "                                         'hidden neurons')\n",
        "    ax1.plot(data['hidden neurons'],data[\"best validation loss\"], label =\"best loss\" )\n",
        "    ax2.plot(data['hidden neurons'],data[\"best validation accuracy\"], label = \"best accuracy\")\n",
        "    finalize_standardplot(fig, ax1, ax2)\n",
        "    \n"
      ],
      "execution_count": 0,
      "outputs": []
    },
    {
      "metadata": {
        "id": "fc_WrqMztsue",
        "colab_type": "text"
      },
      "cell_type": "markdown",
      "source": [
        "Answer to question 2:"
      ]
    },
    {
      "metadata": {
        "id": "y0xrZhALtsuf",
        "colab_type": "text"
      },
      "cell_type": "markdown",
      "source": [
        ""
      ]
    },
    {
      "metadata": {
        "id": "RQrbMs8ntsug",
        "colab_type": "text"
      },
      "cell_type": "markdown",
      "source": [
        "## Exercise 5: Going deeper: tricks and regularization (8 points)\n",
        "\n",
        "### Description\n",
        "\n",
        "Adding hidden layers to a deep network does not necessarily lead to a straight-forward improvement of performance. Overfitting can be counteracted with regularization and dropout. Batch normalization is supposed to mainly speed up convergence. Since the MNIST dataset is almost perfectly solved already by a one-hidden-layer network we use the Fashion-MNIST dataset in this exercise.\n",
        "\n",
        "1. Add one or two hidden layers with 50 hidden neurons (each) and train the network for a sufficiently long time (at least 100 epochs). Since deep models are very expressive you will most probably encounter overfitting. Try to improve the best validation scores of the model (even if it is only a minor improvement) by experimenting with batch_normalization layers, dropout layers and l1- and l2-regularization on weights (kernels) and biases. (4 pts)\n",
        "2. After you have found good settings, plot the learning curves for both models, naive (=no tricks/regularization) and tuned (=tricks + regularized), preferably together in a comparison plot. Discuss your results; refer to the model performance with only 1 hidden layer. (2 sentences max.) (2pts)\n",
        "3. Fit your best performing (probably regularized deep) model also to MNIST for having a reference for the next exercise. Plot the resulting learning curves. (2 pts)\n",
        "\n",
        "### Solution"
      ]
    },
    {
      "metadata": {
        "ExecuteTime": {
          "end_time": "2018-02-23T16:26:50.480763Z",
          "start_time": "2018-02-23T16:06:32.938435Z"
        },
        "scrolled": false,
        "id": "oS-7Yowmtsuh",
        "colab_type": "code",
        "colab": {}
      },
      "cell_type": "code",
      "source": [
        "# compute the data\n",
        "\n",
        "epochs= 2    #  <-------------------- set epochs here ! (at least 100)\n",
        "\n",
        "dataset='fashion'\n",
        "\n",
        "model_names=['normal','batch normalization', 'dropout 0.5', 'dropout 0.25', 'kernel regularizer l1',\n",
        "             'kernel regularizer l2',  'bias regularizer l1', 'bias regularizer l2', ]\n",
        "\n",
        "with open('./5/model_names.json', 'w') as outfile:\n",
        "        json.dump(model_names, outfile)\n",
        "\n",
        "models=[\n",
        "    # normal\n",
        "    Sequential([\n",
        "        Dense(50, input_shape=(784,)),\n",
        "        Activation('relu'),\n",
        "        Dense(50, input_shape=(784,)),\n",
        "        Activation('relu'),\n",
        "        Dense(10),\n",
        "        Activation('softmax'),\n",
        "    ]),\n",
        "    # batch normalization\n",
        "    Sequential([\n",
        "        Dense(50, input_shape=(784,)),\n",
        "        BatchNormalization(axis=-1, momentum=0.99, epsilon=0.001, \n",
        "                           center=True, scale=True, beta_initializer='zeros',\n",
        "                           gamma_initializer='ones', moving_mean_initializer='zeros',\n",
        "                           moving_variance_initializer='ones', beta_regularizer=None,\n",
        "                           gamma_regularizer=None, beta_constraint=None, gamma_constraint=None),\n",
        "        Activation('relu'),\n",
        "        Dense(50, input_shape=(784,)),\n",
        "        BatchNormalization(axis=-1, momentum=0.99, epsilon=0.001, \n",
        "                           center=True, scale=True, beta_initializer='zeros',\n",
        "                           gamma_initializer='ones', moving_mean_initializer='zeros',\n",
        "                           moving_variance_initializer='ones', beta_regularizer=None,\n",
        "                           gamma_regularizer=None, beta_constraint=None, gamma_constraint=None),\n",
        "        Activation('relu'),\n",
        "        Dense(10),\n",
        "        Activation('softmax'),\n",
        "    ]),\n",
        "    # dropout 0.5\n",
        "    Sequential([\n",
        "        Dense(50, input_shape=(784,)),\n",
        "        Dropout(0.5),\n",
        "        Activation('relu'),\n",
        "        Dense(50, input_shape=(784,)),\n",
        "        Activation('relu'),\n",
        "        Dense(10),\n",
        "        Activation('softmax')\n",
        "    ]),\n",
        "    # dropout 0.25\n",
        "    Sequential([\n",
        "        Dense(50, input_shape=(784,)),\n",
        "        Dropout(0.25),\n",
        "        Activation('relu'),\n",
        "        Dense(50, input_shape=(784,)),\n",
        "        Activation('relu'),\n",
        "        Dense(10),\n",
        "        Activation('softmax')\n",
        "    ]),\n",
        "    # kernel reguralizer l1\n",
        "     Sequential([\n",
        "        Dense(50, input_shape=(784,),kernel_regularizer=regularizers.l1(0.01)),\n",
        "        Activation('relu'),\n",
        "        Dense(50, input_shape=(784,)),\n",
        "        Activation('relu'),\n",
        "        Dense(10),\n",
        "        Activation('softmax'),\n",
        "    ]),\n",
        "    # kernel reguralizer l2\n",
        "     Sequential([\n",
        "        Dense(50, input_shape=(784,),kernel_regularizer=regularizers.l2(0.01)),\n",
        "        Activation('relu'),\n",
        "        Dense(50, input_shape=(784,)),\n",
        "        Activation('relu'),\n",
        "        Dense(10),\n",
        "        Activation('softmax'),\n",
        "    ]),\n",
        "    # bias reguralizer l1\n",
        "     Sequential([\n",
        "        Dense(50, input_shape=(784,), bias_regularizer=regularizers.l2(0.01)),\n",
        "        Activation('relu'),\n",
        "        Dense(50, input_shape=(784,)),\n",
        "        Activation('relu'),\n",
        "        Dense(10),\n",
        "        Activation('softmax'),\n",
        "    ]),\n",
        "    # bias reguralizer l2\n",
        "     Sequential([\n",
        "        Dense(50, input_shape=(784,), bias_regularizer=regularizers.l2(0.01)),\n",
        "        Activation('relu'),\n",
        "        Dense(50, input_shape=(784,)),\n",
        "        Activation('relu'),\n",
        "        Dense(10),\n",
        "        Activation('softmax'),\n",
        "    ])\n",
        "    \n",
        "]\n",
        "\n",
        "historys=[]\n",
        "for model_key in range(len(models)):\n",
        "    adam5 = keras.optimizers.Adam(lr=0.01, beta_1=0.9, beta_2=0.999)\n",
        "    models[model_key].compile(optimizer=adam5,\n",
        "                  loss='categorical_crossentropy',\n",
        "                  metrics=['acc'])\n",
        "\n",
        "    h=models[model_key].fit(x_tr[dataset], y_tr[dataset], epochs=epochs,\n",
        "                                 batch_size=128, validation_data=(x_te[dataset], y_te[dataset]))\n",
        "\n",
        "    with open('./5/'+str(dataset)+'/'+str(model_key)+'.json', 'w') as outfile:\n",
        "        json.dump(h.history, outfile)\n",
        "    \n",
        "    historys+=[h.history]\n",
        "'''\n",
        "with open('./5/historys.json', 'w') as outfile:\n",
        "    json.dump(historys, outfile)\n",
        "'''\n"
      ],
      "execution_count": 0,
      "outputs": []
    },
    {
      "metadata": {
        "id": "evSzlE24tsum",
        "colab_type": "text"
      },
      "cell_type": "markdown",
      "source": [
        "Answer to question 2 (comments):"
      ]
    },
    {
      "metadata": {
        "id": "_pGxRjYktsun",
        "colab_type": "text"
      },
      "cell_type": "markdown",
      "source": [
        ""
      ]
    },
    {
      "metadata": {
        "id": "DwH6-G1atsuo",
        "colab_type": "code",
        "colab": {}
      },
      "cell_type": "code",
      "source": [
        "############ 5 ##################\n",
        "#plot the data\n",
        "\n",
        "\n",
        "with open('./5/historys.json', 'r') as infile:\n",
        "    historys=json.load(infile)\n",
        "\n",
        "with open('./5/model_names.json', 'r') as infile:\n",
        "    model_names=json.load(infile)    \n",
        "\n",
        "def multiple_comparison_plot(historys, model_names, title, training_or_validation='validation'):\n",
        "    fig, ax1, ax2 = prepare_standardplot(title, \"epochs\")\n",
        "    loss_key= 'val_loss' if training_or_validation=='validation' else 'loss'\n",
        "    acc_key= 'val_acc' if training_or_validation=='validation' else 'acc'\n",
        "\n",
        "    for model_key in range(len(historys)):\n",
        "        ax1.plot(historys[model_key][loss_key], label=model_names[model_key])\n",
        "        ax2.plot(historys[model_key][acc_key], label=model_names[model_key])\n",
        "    fig.set_size_inches(10,10)\n",
        "    finalize_standardplot(fig, ax1, ax2)\n",
        "    \n",
        "    \n",
        "multiple_comparison_plot(historys, model_names,'title', training_or_validation='validation' )"
      ],
      "execution_count": 0,
      "outputs": []
    },
    {
      "metadata": {
        "id": "YWnFds-htsuq",
        "colab_type": "code",
        "colab": {}
      },
      "cell_type": "code",
      "source": [
        ""
      ],
      "execution_count": 0,
      "outputs": []
    },
    {
      "metadata": {
        "id": "b_AFfTi7tsus",
        "colab_type": "text"
      },
      "cell_type": "markdown",
      "source": [
        "## Exercise 6: Convolutional neural networks (CNNs) (10 points)\n",
        "\n",
        "### Description\n",
        "\n",
        "Convolutional neural networks have an inductive bias that is well adapted to image classification.\n",
        "\n",
        "1. Design a convolutional neural network, play with different architectures and parameters. Hint: You may get valuable inspiration from the keras [examples](https://github.com/keras-team/keras/tree/master/examples). (4 pts)\n",
        "2. Plot the learning curves of the convolutional neural network for MNIST and Fashion-MNIST. (4 pts)\n",
        "3. How does the CNN performance compare to the so far best performing (deep) neural network model for the two data sets? (2 sentences max.) (2 pts)\n",
        "\n",
        "### Solution"
      ]
    },
    {
      "metadata": {
        "ExecuteTime": {
          "end_time": "2018-02-23T16:05:21.840299Z",
          "start_time": "2018-02-23T15:51:11.993053Z"
        },
        "id": "ja4YIlRftsut",
        "colab_type": "code",
        "colab": {}
      },
      "cell_type": "code",
      "source": [
        "################## 6.1 ####################\n",
        "\n",
        "# inspiration from https://github.com/keras-team/keras/blob/master/examples/mnist_cnn.py\n",
        "epochs= 300\n",
        "batch_size=128\n",
        "\n",
        "for dataset in ['numbers', 'fashion']:\n",
        "\n",
        "\n",
        "    model = Sequential()\n",
        "    model.add(Conv2D(32, kernel_size=(3, 3),\n",
        "                     activation='relu',\n",
        "                     input_shape=input_shape))\n",
        "    model.add(Conv2D(64, (3, 3), activation='relu'))\n",
        "    model.add(MaxPooling2D(pool_size=(2, 2)))\n",
        "    model.add(Dropout(0.3))\n",
        "    model.add(Flatten())\n",
        "    model.add(Dense(128, activation='relu', kernel_regularizer=regularizers.l2(0.01) ))\n",
        "    model.add(Dropout(0.4))\n",
        "    model.add(Dense(num_classes, activation='softmax'))\n",
        "\n",
        "    model.compile(loss=keras.losses.categorical_crossentropy,\n",
        "                  optimizer= keras.optimizers.Adam(lr=0.01, beta_1=0.9, beta_2=0.999),\n",
        "                  metrics=['accuracy'])\n",
        "\n",
        "    history=model.fit(x_tr[dataset], y_tr[dataset],\n",
        "              batch_size=batch_size,\n",
        "              epochs=epochs,\n",
        "              verbose=1,\n",
        "              validation_data=(x_te[dataset], y_te[dataset]))\n",
        "\n",
        "    print(dataset)\n",
        "    print(history)\n",
        "    with open('./6/history_'+dataset+'.json', 'w') as outfile:\n",
        "        json.dump(history, outfile)\n",
        "\n",
        "\n"
      ],
      "execution_count": 0,
      "outputs": []
    },
    {
      "metadata": {
        "id": "0qCuoQYCtsuv",
        "colab_type": "code",
        "colab": {}
      },
      "cell_type": "code",
      "source": [
        "########### 6.2 ###########\n",
        "\n",
        "with open('./6/history_numbers.json', 'r') as infile:\n",
        "    history_numbers=json.load(infile)\n",
        "    \n",
        "with open('./6/history_fashion.json', 'r') as infile:\n",
        "    history_fashion=json.load(infile)\n",
        "    \n",
        "# plot the data\n",
        "\n",
        "\n",
        "comparison_plot(history_numbers, history_fashion, 'numbers', 'fashion', 'comparison of performance CNN numbers vs. fashion datasets')\n",
        "\n"
      ],
      "execution_count": 0,
      "outputs": []
    },
    {
      "metadata": {
        "id": "TS8GMiedtsuy",
        "colab_type": "text"
      },
      "cell_type": "markdown",
      "source": [
        "Answer to question 3:"
      ]
    },
    {
      "metadata": {
        "id": "5UjF2E1gtsuz",
        "colab_type": "text"
      },
      "cell_type": "markdown",
      "source": [
        ""
      ]
    },
    {
      "metadata": {
        "id": "yAsCFeOItsuz",
        "colab_type": "text"
      },
      "cell_type": "markdown",
      "source": [
        "## Exercise 7: Sigmoidal activation function and batch-normalization (6 points)\n",
        "\n",
        "### Description:\n",
        "\n",
        "In the original publication of batch normalization [Ioffe and Szegedy, 2014](https://arxiv.org/pdf/1502.03167.pdf), the authors mention a particularly beneficial effect of their method on networks with sigmoidal activation functions. This is because such networks usually suffer from saturating activations/vanishing gradients. Here we want to reproduce this behaviour (Chose either MNIST or Fashion-MNIST for this exercise).\n",
        "\n",
        "1. Implement the same convolutional network as in the previous exercise, but using the sigmoid activation function instead of the standard choice ReLU. Train the network for a reasonable amount of time. What do you observe? (1 sentence max.) (3 pts)\n",
        "2. Add batch-normalization layers to all convolutional and fully-connected layers (i.e. before each layer with learnable parameters). How does the performance change? Can the network reach the ReLU-CNN performance of the previous exercise? (1 sentence max.) (3 pts)\n",
        "3. **BONUS (optional, not graded**): Investigate our initial guess that saturating activity/vanishing gradients might be the cause of this behaviour. For that, create histograms of the hidden activitions for different hidden layers for the sigmoid-CNN and the sigmoid-CNN with batch-normalization (counting over both, samples and neurons per layer). You may only chose layers with learnable parameters. What do you observe?\n",
        "Hint: You can use the [keract](https://github.com/philipperemy/keract) package to access neural activation values for all layers of your network model.\n",
        "\n",
        "\n",
        "\n",
        "### Solution:"
      ]
    },
    {
      "metadata": {
        "id": "SMj5h6rNtsu0",
        "colab_type": "code",
        "colab": {}
      },
      "cell_type": "code",
      "source": [
        "######################## 7.1 ######################\n",
        "epochs= 300\n",
        "batch_size=128\n",
        "\n",
        "dataset='fashion'\n",
        "\n",
        "\n",
        "model = Sequential()\n",
        "model.add(Conv2D(32, kernel_size=(3, 3),\n",
        "                 activation='sigmoit',\n",
        "                 input_shape=input_shape))\n",
        "model.add(Conv2D(64, (3, 3), activation='sigmoid'))\n",
        "model.add(MaxPooling2D(pool_size=(2, 2)))\n",
        "model.add(Dropout(0.3))\n",
        "model.add(Flatten())\n",
        "model.add(Dense(128, activation='sigmoid', kernel_regularizer=regularizers.l2(0.01) ))\n",
        "model.add(Dropout(0.4))\n",
        "model.add(Dense(num_classes, activation='softmax'))\n",
        "\n",
        "model.compile(loss=keras.losses.categorical_crossentropy,\n",
        "              optimizer= keras.optimizers.Adam(lr=0.01, beta_1=0.9, beta_2=0.999),\n",
        "              metrics=['accuracy'])\n",
        "\n",
        "history=model.fit(x_tr[dataset], y_tr[dataset],\n",
        "          batch_size=batch_size,\n",
        "          epochs=epochs,\n",
        "          verbose=1,\n",
        "          validation_data=(x_te[dataset], y_te[dataset]))\n",
        "\n",
        "print(dataset)\n",
        "print(history.history)\n",
        "with open('./7/history7.1.json', 'w') as outfile:\n",
        "    json.dump(history, outfile)\n"
      ],
      "execution_count": 0,
      "outputs": []
    },
    {
      "metadata": {
        "id": "h1NV3vFDtsu9",
        "colab_type": "code",
        "colab": {}
      },
      "cell_type": "code",
      "source": [
        "historys=[]\n",
        "model_types=['relu', 'sigmoid']\n",
        "\n",
        "    \n",
        "with open('./6/history_fashion.json', 'r') as infile:\n",
        "    historys+=[json.load(infile)]\n",
        "    \n",
        "with open('./7/history7.1.json', 'r') as infile:\n",
        "    historys+=[json.load(infile)]\n",
        "\n",
        "        \n",
        "\n",
        "comparison_plot(history7, history6, 'numbers', 'fashion', 'comparison of performance CNN numbers vs. fashion datasets')\n",
        "\n",
        "    \n"
      ],
      "execution_count": 0,
      "outputs": []
    },
    {
      "metadata": {
        "id": "E0C76OrvtsvB",
        "colab_type": "code",
        "colab": {}
      },
      "cell_type": "code",
      "source": [
        "################# 7.2 #####################"
      ],
      "execution_count": 0,
      "outputs": []
    },
    {
      "metadata": {
        "id": "P-rrlXXCtsvG",
        "colab_type": "text"
      },
      "cell_type": "markdown",
      "source": [
        "Answer to question 1:"
      ]
    },
    {
      "metadata": {
        "id": "kTtvgg9TtsvH",
        "colab_type": "text"
      },
      "cell_type": "markdown",
      "source": [
        ""
      ]
    },
    {
      "metadata": {
        "id": "DXFKr1uTtsvH",
        "colab_type": "text"
      },
      "cell_type": "markdown",
      "source": [
        "Answer to question 2:"
      ]
    },
    {
      "metadata": {
        "id": "dglRhAggtsvI",
        "colab_type": "text"
      },
      "cell_type": "markdown",
      "source": [
        ""
      ]
    }
  ]
}